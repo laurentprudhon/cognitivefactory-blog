{
 "cells": [
  {
   "cell_type": "markdown",
   "id": "presidential-gregory",
   "metadata": {},
   "source": [
    "# Notebook to generate fastai visual docs"
   ]
  },
  {
   "cell_type": "code",
   "execution_count": 11,
   "id": "damaged-electron",
   "metadata": {},
   "outputs": [],
   "source": [
    "!pip install requests > /dev/null\n",
    "!pip install beautifulsoup4 > /dev/null\n",
    "!pip install fastai --upgrade > /dev/null"
   ]
  },
  {
   "cell_type": "markdown",
   "id": "worse-sudan",
   "metadata": {},
   "source": [
    "## 1. Export SVG versions of the PowerPoint slides\n",
    "\n",
    "1. Open \"fastai_docs_v1.pptx\" in Microsoft PowerPoint\n",
    "2. Save as ... > SVG Format > export all slides, in the current directory\n",
    "3. .svg files are generated in the ./fastai_docs_v1 subdirectory"
   ]
  },
  {
   "cell_type": "code",
   "execution_count": 1,
   "id": "declared-academy",
   "metadata": {
    "scrolled": true
   },
   "outputs": [
    {
     "data": {
      "text/plain": [
       "(#75) [Path('fastai_docs_v1/Diapositive1.SVG'),Path('fastai_docs_v1/Diapositive10.SVG'),Path('fastai_docs_v1/Diapositive11.SVG'),Path('fastai_docs_v1/Diapositive12.SVG'),Path('fastai_docs_v1/Diapositive13.SVG'),Path('fastai_docs_v1/Diapositive14.SVG'),Path('fastai_docs_v1/Diapositive15.SVG'),Path('fastai_docs_v1/Diapositive16.SVG'),Path('fastai_docs_v1/Diapositive17.SVG'),Path('fastai_docs_v1/Diapositive18.SVG')...]"
      ]
     },
     "execution_count": 1,
     "metadata": {},
     "output_type": "execute_result"
    }
   ],
   "source": [
    "from fastai.data.all import *\n",
    "\n",
    "p = Path('./fastai_docs_v1')\n",
    "files = get_files(p, extensions=\".SVG\")\n",
    "files"
   ]
  },
  {
   "cell_type": "markdown",
   "id": "united-rings",
   "metadata": {},
   "source": [
    "## 2. Rename the SVG files with slides titles\n",
    "\n",
    "1. Open \"titles.csv\" in a table editor (separator ';' and UTF8 encoding)\n",
    "2. Update the contents to match the latest version of  \"fastai_docs_v1.pptx\" (and save if needed)\n",
    "  - column 0 : slide index (starting at 1) \n",
    "  - column 1 : section title\n",
    "  - column 2 : slide title\n",
    "3. Execute the code below to rename all svg files\n",
    "\n",
    "You must be careful if you change a title in this table: the deep links to a specific svg picture will change => any user with a specific bookmark will be redirected to the top of the page."
   ]
  },
  {
   "cell_type": "code",
   "execution_count": 2,
   "id": "dying-aquatic",
   "metadata": {},
   "outputs": [
    {
     "data": {
      "text/html": [
       "<div>\n",
       "<style scoped>\n",
       "    .dataframe tbody tr th:only-of-type {\n",
       "        vertical-align: middle;\n",
       "    }\n",
       "\n",
       "    .dataframe tbody tr th {\n",
       "        vertical-align: top;\n",
       "    }\n",
       "\n",
       "    .dataframe thead th {\n",
       "        text-align: right;\n",
       "    }\n",
       "</style>\n",
       "<table border=\"1\" class=\"dataframe\">\n",
       "  <thead>\n",
       "    <tr style=\"text-align: right;\">\n",
       "      <th></th>\n",
       "      <th>0</th>\n",
       "      <th>1</th>\n",
       "      <th>2</th>\n",
       "    </tr>\n",
       "  </thead>\n",
       "  <tbody>\n",
       "    <tr>\n",
       "      <th>0</th>\n",
       "      <td>1</td>\n",
       "      <td>Concepts</td>\n",
       "      <td>Concepts - Data loading</td>\n",
       "    </tr>\n",
       "    <tr>\n",
       "      <th>1</th>\n",
       "      <td>2</td>\n",
       "      <td>Concepts</td>\n",
       "      <td>Concepts - Model training</td>\n",
       "    </tr>\n",
       "    <tr>\n",
       "      <th>2</th>\n",
       "      <td>3</td>\n",
       "      <td>Concepts</td>\n",
       "      <td>Concepts - Learner lifecycle</td>\n",
       "    </tr>\n",
       "    <tr>\n",
       "      <th>3</th>\n",
       "      <td>4</td>\n",
       "      <td>Learner</td>\n",
       "      <td>Learner - Create an instance</td>\n",
       "    </tr>\n",
       "    <tr>\n",
       "      <th>4</th>\n",
       "      <td>5</td>\n",
       "      <td>Learner</td>\n",
       "      <td>Learner - Init, Attributes</td>\n",
       "    </tr>\n",
       "    <tr>\n",
       "      <th>...</th>\n",
       "      <td>...</td>\n",
       "      <td>...</td>\n",
       "      <td>...</td>\n",
       "    </tr>\n",
       "    <tr>\n",
       "      <th>70</th>\n",
       "      <td>71</td>\n",
       "      <td>Loss</td>\n",
       "      <td>Loss functions - Classification, Regression</td>\n",
       "    </tr>\n",
       "    <tr>\n",
       "      <th>71</th>\n",
       "      <td>72</td>\n",
       "      <td>Summary</td>\n",
       "      <td>Summary - DataBlock</td>\n",
       "    </tr>\n",
       "    <tr>\n",
       "      <th>72</th>\n",
       "      <td>73</td>\n",
       "      <td>Summary</td>\n",
       "      <td>Summary - DataLoaders</td>\n",
       "    </tr>\n",
       "    <tr>\n",
       "      <th>73</th>\n",
       "      <td>74</td>\n",
       "      <td>Summary</td>\n",
       "      <td>Summary - Learner</td>\n",
       "    </tr>\n",
       "    <tr>\n",
       "      <th>74</th>\n",
       "      <td>75</td>\n",
       "      <td>Summary</td>\n",
       "      <td>Implementation notes</td>\n",
       "    </tr>\n",
       "  </tbody>\n",
       "</table>\n",
       "<p>75 rows × 3 columns</p>\n",
       "</div>"
      ],
      "text/plain": [
       "     0         1                                            2\n",
       "0    1  Concepts                      Concepts - Data loading\n",
       "1    2  Concepts                    Concepts - Model training\n",
       "2    3  Concepts                 Concepts - Learner lifecycle\n",
       "3    4   Learner                 Learner - Create an instance\n",
       "4    5   Learner                   Learner - Init, Attributes\n",
       "..  ..       ...                                          ...\n",
       "70  71      Loss  Loss functions - Classification, Regression\n",
       "71  72   Summary                          Summary - DataBlock\n",
       "72  73   Summary                        Summary - DataLoaders\n",
       "73  74   Summary                            Summary - Learner\n",
       "74  75   Summary                         Implementation notes\n",
       "\n",
       "[75 rows x 3 columns]"
      ]
     },
     "execution_count": 2,
     "metadata": {},
     "output_type": "execute_result"
    }
   ],
   "source": [
    "titles = pd.read_csv(\"titles.csv\", sep=';', header=None)\n",
    "titles"
   ]
  },
  {
   "cell_type": "code",
   "execution_count": 3,
   "id": "systematic-photographer",
   "metadata": {},
   "outputs": [],
   "source": [
    "# Extract slide number from the file names generated by PowerPoint\n",
    "slide_numbers_and_files = L(zip(files.map(lambda n: int(n.name[11-len(n.name):-4])),files))\n",
    "\n",
    "# Create suitable file names from the slides titles\n",
    "# Rename all svg files with their number and title\n",
    "target_filenames = L()\n",
    "for num,file in slide_numbers_and_files:\n",
    "    safe_title = titles[2].iloc[num-1].replace(' - ','-').replace(',','').replace(' ','_').replace('/','_')\n",
    "    target_filename = ('0' if num<=9 else '')+str(num)+'_'+safe_title+'.svg'\n",
    "    target_filenames.append((num,target_filename))\n",
    "    file.rename(p/target_filename)\n",
    "                                                                                                   \n",
    "# Add these filenames to the titles table for later use                                                                                                   \n",
    "target_filenames.sort(key=lambda t:t[0])\n",
    "titles[3] = target_filenames.itemgot(1)\n",
    "titles\n",
    "\n",
    "# Reload list of files\n",
    "files = get_files(p, extensions=\".SVG\")"
   ]
  },
  {
   "cell_type": "markdown",
   "id": "incorrect-feedback",
   "metadata": {},
   "source": [
    "## 3. Insert links to fastai docs or code in the SVG files\n",
    "\n",
    "Note : this is implemented as a post-processing step because today - May 2021 - PowerPoint doesn't support links in its SVG export feature."
   ]
  },
  {
   "cell_type": "markdown",
   "id": "worst-charm",
   "metadata": {},
   "source": [
    "### 3.1 Collect all links and anchors from https://docs.fast.ai in a single csv file (optional)\n",
    "\n",
    "This is useful in the next step to speed up the process of assigning a useful link to each visual element in the slides.\n",
    "\n",
    "With the generated \"docs.fast.ai.csv\" file opened in a table editor (separator ';' and UTF8 encoding), you can locate very quickly the link you need and copy-paste it.\n",
    "\n",
    "To do this, we simply crawl the docs.fast.ai website ..."
   ]
  },
  {
   "cell_type": "code",
   "execution_count": null,
   "id": "trained-hierarchy",
   "metadata": {},
   "outputs": [],
   "source": [
    "import requests\n",
    "from bs4 import BeautifulSoup\n",
    "\n",
    "rooturl = \"https://docs.fast.ai/\"\n",
    "\n",
    "html = requests.get(url=rooturl).text\n",
    "page = BeautifulSoup(html, 'html.parser')\n",
    "\n",
    "title1 = \"\"\n",
    "title2 = \"\" \n",
    "\n",
    "with open('docs.fast.ai.csv', 'w') as csvfile:\n",
    "    writer = csv.writer(csvfile, delimiter=';', quotechar='\\\\', quoting=csv.QUOTE_MINIMAL)\n",
    "    \n",
    "    for link in page.find(\"ul\",attrs={\"id\":\"mysidebar\"}).find_all(\"a\"):\n",
    "        txt = link.string\n",
    "        url = link['href']\n",
    "        depth = len(list(link.parents))\n",
    "        if depth==9:\n",
    "            title1 = txt\n",
    "            title2 = \"\"\n",
    "            continue\n",
    "        elif depth==11 and url==\"#\":\n",
    "            title2 = txt\n",
    "            continue\n",
    "        elif depth==11 and url!=\"#\":\n",
    "            title2 = \"\"\n",
    "\n",
    "        baseurl = f\"https://docs.fast.ai{url}\"\n",
    "        writer.writerow([title1,title2,txt,baseurl])\n",
    "        print(\"Crawling : \"+baseurl+\"\\r\")\n",
    "        \n",
    "        html2 = requests.get(url=baseurl).text\n",
    "        page2 = BeautifulSoup(html2, 'html.parser')\n",
    "\n",
    "        for header in page2.find_all([\"h2\",\"h3\",\"h4\"]):\n",
    "            strs = list(header.strings)\n",
    "            if len(strs)==1:\n",
    "                txt2 = strs[0]\n",
    "            else:\n",
    "                txt2 = \"\".join(strs[:-1])\n",
    "            url2 = header['id']\n",
    "            depth = int(header.name[1:])\n",
    "\n",
    "            writer.writerow(['']*depth+[txt2,f\"{baseurl}#{url2}\"])"
   ]
  },
  {
   "cell_type": "markdown",
   "id": "sealed-script",
   "metadata": {},
   "source": [
    "### 3.2 Update links table"
   ]
  },
  {
   "cell_type": "code",
   "execution_count": 7,
   "id": "olive-avenue",
   "metadata": {},
   "outputs": [],
   "source": [
    "# Utility functions to parse SVG xml files\n",
    "from xml.dom.minidom import parse\n",
    "\n",
    "def get_descendant_nodes(context_node, predicate):\n",
    "    if not context_node:\n",
    "        yield None\n",
    "    for child in context_node.childNodes:\n",
    "        if predicate(child):\n",
    "            yield child\n",
    "        yield from get_descendant_nodes(child, predicate)\n",
    "\n",
    "def get_text_value(context_node, default=None):\n",
    "    texts_nodes = get_descendant_nodes(context_node, lambda n: n.nodeType == n.TEXT_NODE)\n",
    "    text_value = ' '.join([str.strip(t.nodeValue) for t in texts_nodes])\n",
    "    return text_value if text_value else default"
   ]
  },
  {
   "cell_type": "markdown",
   "id": "killing-stomach",
   "metadata": {},
   "source": [
    "1. Refresh the links table in \"links.csv\" by running the code below. \n",
    "\n",
    "The idea is :\n",
    "  - scan all SVG files\n",
    "  - locate all text elements in the SVG file\n",
    "  - check if the text element was already referenced in the links table\n",
    "    - if it wasn't : add it to the table and flag it \"NEW\"\n",
    "    - if it was : flag it \"OK\"\n",
    "  - after all SVG files were scanned, mark all remaining text elements in the table \"REMOVED\" "
   ]
  },
  {
   "cell_type": "code",
   "execution_count": 24,
   "id": "interstate-business",
   "metadata": {},
   "outputs": [],
   "source": [
    "links = pd.read_csv('links.csv', sep=';', header=None, encoding='utf-8', keep_default_na=False)"
   ]
  },
  {
   "cell_type": "code",
   "execution_count": null,
   "id": "sophisticated-lexington",
   "metadata": {},
   "outputs": [],
   "source": [
    "links[3] = \"REMOVED\"\n",
    "\n",
    "for file in files:\n",
    "    dom = parse(open(file, encoding='utf-8'))\n",
    "    for idx,textElt in enumerate(dom.getElementsByTagName('text')):\n",
    "        text = get_text_value(textElt).replace('\"','')\n",
    "        rows = links[(links[0]==file.name) & (links[1]==text)]   \n",
    "        if len(rows.index)>0:\n",
    "            links.loc[(links[0]==file.name) & (links[1]==text),3] = \"OK\"\n",
    "        else:\n",
    "            links = links.append({0:file.name, 1:text, 2:'?', 3:\"NEW\"}, ignore_index=True)\n",
    "    print(f\"{file.name} -> {idx} labels\\r\")\n",
    "\n",
    "links = links.reset_index().sort_values([0,'index']).drop(columns='index')\n",
    "\n",
    "links[3].value_counts()"
   ]
  },
  {
   "cell_type": "code",
   "execution_count": 152,
   "id": "considered-target",
   "metadata": {},
   "outputs": [],
   "source": [
    "links.to_csv('links.csv', sep=';', header=None, index=False, encoding='utf-8-sig')"
   ]
  },
  {
   "cell_type": "markdown",
   "id": "reduced-parallel",
   "metadata": {},
   "source": [
    "2. Open \"links.csv\" in a table editor (separator ';' and **UTF8 encoding**)\n",
    "  - column 0 : SVG file name\n",
    "  - column 1 : text element\n",
    "  - column 2 : link to fastai doc -> '?', then URL or empty if no link\n",
    "  - column 3 : line status -> NEW, OK, REMOVED \n",
    "\n",
    "Note : be careful to open and save the CSV file in **UTF-8 encoding** !\n",
    "\n",
    "\n",
    "3. Locate the new lines with 'NEW' in column 3 or the lines not yet documented with '?' in column 2\n",
    "  - add a link to fastai doc in column 2 (or leave the cell empty)\n",
    "  - use 'docs.fast.ai.csv' to quickly find the doc URL\n",
    "  - you can try to locate a similar text element with the status REMOVED to copy the previously selected link\n",
    "  - optionnaly reorder the lines to group the elements with links at the top for each SVG file\n",
    "\n",
    "\n",
    "4. After all lines have been updated :\n",
    "  - delete all REMOVED lines\n",
    "  - drop the colum 3 (status)\n",
    "  - save a new version of 'links.csv'"
   ]
  },
  {
   "cell_type": "markdown",
   "id": "future-evening",
   "metadata": {},
   "source": [
    "### 3.3 Process SVG files : add links"
   ]
  },
  {
   "cell_type": "code",
   "execution_count": 5,
   "id": "reliable-confidence",
   "metadata": {},
   "outputs": [],
   "source": [
    "def wrap_with_link(dom, textElt, url):\n",
    "    parent = textElt.parentNode\n",
    "    link = dom.createElement('a')\n",
    "    link.setAttributeNS(\"http://www.w3.org/1999/xlink\", \"href\", url)      \n",
    "    if textElt.previousSibling.tagName==\"rect\":\n",
    "        rectElt = textElt.previousSibling\n",
    "        parent.removeChild(rectElt)\n",
    "        parent.replaceChild(link, textElt)        \n",
    "        link.appendChild(rectElt)\n",
    "        link.appendChild(textElt)\n",
    "    else:\n",
    "        parent.replaceChild(link, textElt)\n",
    "        link.appendChild(textElt)"
   ]
  },
  {
   "cell_type": "code",
   "execution_count": null,
   "id": "social-wound",
   "metadata": {},
   "outputs": [],
   "source": [
    "for file in files:\n",
    "    dom = parse(open(file, encoding='utf-8'))\n",
    "    print(file.name)\n",
    "    changed = False\n",
    "    for idx,textElt in enumerate(dom.getElementsByTagName('text')):\n",
    "        text = get_text_value(textElt).replace('\"','')\n",
    "        rows = links[(links[0]==file.name) & (links[1]==text)]   \n",
    "        if len(rows.index)>0:\n",
    "            url = rows.iloc[0,2]\n",
    "            if len(url)>0 and url!='?':\n",
    "                wrap_with_link(dom,textElt,url)\n",
    "                changed = True\n",
    "    if changed:\n",
    "        with open(file,'w') as f:\n",
    "            f.write(dom.toxml())\n",
    "            print(\" -> updated\")"
   ]
  },
  {
   "cell_type": "markdown",
   "id": "trained-assignment",
   "metadata": {},
   "source": [
    "## 4. Generate the HTML page and menu"
   ]
  },
  {
   "cell_type": "code",
   "execution_count": 159,
   "id": "composed-wagon",
   "metadata": {},
   "outputs": [],
   "source": [
    "menuhtml = \"<h1>fastai v2</h1>\\n\"\n",
    "for title1 in titles[1].unique():\n",
    "    menuhtml += f\"<h2>{title1}</h2>\\n\"\n",
    "    menuhtml += \"<ul>\"\n",
    "    for title2 in titles[2][titles[1]==title1]:\n",
    "        num = titles[3][(titles[1]==title1) & (titles[2]==title2)].item()[:2]\n",
    "        menuhtml += f\"<li><a href=\\\"#{num}\\\">{title2}</a></li>\\n\"\n",
    "    menuhtml += \"</ul>\""
   ]
  },
  {
   "cell_type": "code",
   "execution_count": 160,
   "id": "every-beach",
   "metadata": {},
   "outputs": [],
   "source": [
    "mainhtml = \"\"\n",
    "for title1 in titles[1].unique():\n",
    "    mainhtml += f\"<h2>{title1}</h2>\\n\"\n",
    "    for title2 in titles[2][titles[1]==title1]:\n",
    "        num = titles[3][(titles[1]==title1) & (titles[2]==title2)].item()[:2]\n",
    "        mainhtml += f\"<p><a href=\\\"/images/fastaidocs/{titles[3][(titles[1]==title1) & (titles[2]==title2)].item()}\\\"><img id=\\\"{num}\\\" src=\\\"/images/fastaidocs/{titles[3][(titles[1]==title1) & (titles[2]==title2)].item()}\\\"/></a></p>\\n\""
   ]
  },
  {
   "cell_type": "code",
   "execution_count": 161,
   "id": "incident-myanmar",
   "metadata": {},
   "outputs": [],
   "source": [
    "main1html = \"\"\"---\n",
    "permalink: /fastaidocs/\n",
    "layout: null\n",
    "search_exclude: true\n",
    "---\n",
    "\n",
    "<html>\n",
    "<head>\n",
    "<style>\n",
    "/* The sidenav */\n",
    ".sidenav {\n",
    "  padding: 10px;\n",
    "  height: 100%;\n",
    "  width: 250px;\n",
    "  position: fixed;\n",
    "  z-index: 1;\n",
    "  top: 0;\n",
    "  left: 0;\n",
    "  color: #7F7F7F;\n",
    "  background-color: #F7F7F7;\n",
    "  overflow-x: hidden;\n",
    "  border-right: solid 1px;\n",
    "}\n",
    "\n",
    "ul {\n",
    "  padding-left: 10px;\n",
    "}\n",
    "\n",
    "li {\n",
    "  list-style-type: none;\n",
    "  padding-left: 0px;\n",
    "  padding-bottom: 5px;\n",
    "}\n",
    "\n",
    "a {\n",
    "  outline: none;\n",
    "  text-decoration: none;\n",
    "  color: #7F7F7F;\n",
    "}\n",
    "\n",
    "a:hover {\n",
    "  border-bottom: 1px solid;\n",
    "}\n",
    "\n",
    "/* Page content */\n",
    ".main {\n",
    "  margin-left: 250px; /* Same as the width of the sidenav */\n",
    "  padding: 0px 10px;\n",
    "}\n",
    "\n",
    ".main h2 {\n",
    "  color: #7F7F7F;\n",
    "  background-color: #F7F7F7;\n",
    "  font-size: 50px;\n",
    "  border-top: 1px solid;\n",
    "  border-bottom: 1px solid;\n",
    "  padding: 10px;\n",
    "}\n",
    "\n",
    ".main img {\n",
    "  width: 100%;\n",
    "  border: 1px solid #E7E7E7;\n",
    "}\n",
    "\n",
    "</style>\n",
    "</head>\n",
    "\n",
    "<body>\n",
    "\n",
    "<div class=\"sidenav\">\n",
    "\n",
    "\"\"\""
   ]
  },
  {
   "cell_type": "code",
   "execution_count": 162,
   "id": "medical-observation",
   "metadata": {},
   "outputs": [],
   "source": [
    "main2html = \"\"\"\n",
    "</div>\n",
    "\n",
    "<div class=\"main\">\n",
    "\"\"\""
   ]
  },
  {
   "cell_type": "code",
   "execution_count": 163,
   "id": "according-reliance",
   "metadata": {},
   "outputs": [],
   "source": [
    "main3html = \"\"\"\n",
    "</div>\n",
    "\n",
    "</body>\n",
    "\n",
    "</html>\"\"\""
   ]
  },
  {
   "cell_type": "code",
   "execution_count": 164,
   "id": "undefined-platform",
   "metadata": {},
   "outputs": [],
   "source": [
    "text_file = open(\"fastaidocs.html\", \"w\")\n",
    "text_file.write(main1html + menuhtml + main2html + mainhtml + main3html)\n",
    "text_file.close()"
   ]
  },
  {
   "cell_type": "code",
   "execution_count": null,
   "id": "timely-jenny",
   "metadata": {},
   "outputs": [],
   "source": []
  }
 ],
 "metadata": {
  "kernelspec": {
   "display_name": "Python 3",
   "language": "python",
   "name": "python3"
  },
  "language_info": {
   "codemirror_mode": {
    "name": "ipython",
    "version": 3
   },
   "file_extension": ".py",
   "mimetype": "text/x-python",
   "name": "python",
   "nbconvert_exporter": "python",
   "pygments_lexer": "ipython3",
   "version": "3.8.8"
  }
 },
 "nbformat": 4,
 "nbformat_minor": 5
}
