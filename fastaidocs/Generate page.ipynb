{
 "cells": [
  {
   "cell_type": "markdown",
   "id": "partial-vulnerability",
   "metadata": {},
   "source": [
    "# Notebook to generate fastai visual docs"
   ]
  },
  {
   "cell_type": "code",
   "execution_count": 2,
   "id": "damaged-electron",
   "metadata": {},
   "outputs": [],
   "source": [
    "!pip install requests > /dev/null\n",
    "!pip install beautifulsoup4 > /dev/null\n",
    "!pip install fastai --upgrade > /dev/null"
   ]
  },
  {
   "cell_type": "markdown",
   "id": "anonymous-reasoning",
   "metadata": {},
   "source": [
    "## 1. Export SVG versions of the PowerPoint slides\n",
    "\n",
    "1. Open \"fastai_docs_v2.7.8.pptx\" in Microsoft PowerPoint\n",
    "2. Save as ... > SVG Format > export all slides, in the current directory\n",
    "3. .svg files are generated in the ./fastai_docs_v2.7.8 subdirectory"
   ]
  },
  {
   "cell_type": "code",
   "execution_count": 4,
   "id": "769ee75c",
   "metadata": {},
   "outputs": [],
   "source": [
    "version = \"2.7.8\""
   ]
  },
  {
   "cell_type": "code",
   "execution_count": 5,
   "id": "declared-academy",
   "metadata": {
    "scrolled": true
   },
   "outputs": [
    {
     "data": {
      "text/plain": [
       "(#76) [Path('fastai_docs_v2.7.8/Diapositive1.SVG'),Path('fastai_docs_v2.7.8/Diapositive10.SVG'),Path('fastai_docs_v2.7.8/Diapositive11.SVG'),Path('fastai_docs_v2.7.8/Diapositive12.SVG'),Path('fastai_docs_v2.7.8/Diapositive13.SVG'),Path('fastai_docs_v2.7.8/Diapositive14.SVG'),Path('fastai_docs_v2.7.8/Diapositive15.SVG'),Path('fastai_docs_v2.7.8/Diapositive16.SVG'),Path('fastai_docs_v2.7.8/Diapositive17.SVG'),Path('fastai_docs_v2.7.8/Diapositive18.SVG')...]"
      ]
     },
     "execution_count": 5,
     "metadata": {},
     "output_type": "execute_result"
    }
   ],
   "source": [
    "from fastai.data.all import *\n",
    "\n",
    "p = Path(f\"./fastai_docs_v{version}\")\n",
    "files = get_files(p, extensions=\".SVG\")\n",
    "files"
   ]
  },
  {
   "cell_type": "markdown",
   "id": "endless-draft",
   "metadata": {},
   "source": [
    "## 2. Rename the SVG files with slides titles\n",
    "\n",
    "1. Open \"titles.csv\" in a table editor (separator ';' and UTF8 encoding)\n",
    "2. Update the contents to match the latest version of  \"fastai_docs_v2.7.8.pptx\" (and save if needed)\n",
    "  - column 0 : slide index (starting at 1) \n",
    "  - column 1 : section title\n",
    "  - column 2 : slide title\n",
    "3. Execute the code below to rename all svg files\n",
    "\n",
    "You must be careful if you change a title in this table: the deep links to a specific svg picture will change => any user with a specific bookmark will be redirected to the top of the page."
   ]
  },
  {
   "cell_type": "code",
   "execution_count": 6,
   "id": "dying-aquatic",
   "metadata": {},
   "outputs": [
    {
     "data": {
      "text/html": [
       "<div>\n",
       "<style scoped>\n",
       "    .dataframe tbody tr th:only-of-type {\n",
       "        vertical-align: middle;\n",
       "    }\n",
       "\n",
       "    .dataframe tbody tr th {\n",
       "        vertical-align: top;\n",
       "    }\n",
       "\n",
       "    .dataframe thead th {\n",
       "        text-align: right;\n",
       "    }\n",
       "</style>\n",
       "<table border=\"1\" class=\"dataframe\">\n",
       "  <thead>\n",
       "    <tr style=\"text-align: right;\">\n",
       "      <th></th>\n",
       "      <th>0</th>\n",
       "      <th>1</th>\n",
       "      <th>2</th>\n",
       "    </tr>\n",
       "  </thead>\n",
       "  <tbody>\n",
       "    <tr>\n",
       "      <th>0</th>\n",
       "      <td>1</td>\n",
       "      <td>Concepts</td>\n",
       "      <td>Concepts - Data loading</td>\n",
       "    </tr>\n",
       "    <tr>\n",
       "      <th>1</th>\n",
       "      <td>2</td>\n",
       "      <td>Concepts</td>\n",
       "      <td>Concepts - Model training</td>\n",
       "    </tr>\n",
       "    <tr>\n",
       "      <th>2</th>\n",
       "      <td>3</td>\n",
       "      <td>Concepts</td>\n",
       "      <td>Concepts - Learner lifecycle</td>\n",
       "    </tr>\n",
       "    <tr>\n",
       "      <th>3</th>\n",
       "      <td>4</td>\n",
       "      <td>Learner</td>\n",
       "      <td>Learner - Create an instance</td>\n",
       "    </tr>\n",
       "    <tr>\n",
       "      <th>4</th>\n",
       "      <td>5</td>\n",
       "      <td>Learner</td>\n",
       "      <td>Learner - Init, Attributes</td>\n",
       "    </tr>\n",
       "    <tr>\n",
       "      <th>...</th>\n",
       "      <td>...</td>\n",
       "      <td>...</td>\n",
       "      <td>...</td>\n",
       "    </tr>\n",
       "    <tr>\n",
       "      <th>71</th>\n",
       "      <td>72</td>\n",
       "      <td>Summary</td>\n",
       "      <td>Summary - DataBlock</td>\n",
       "    </tr>\n",
       "    <tr>\n",
       "      <th>72</th>\n",
       "      <td>73</td>\n",
       "      <td>Summary</td>\n",
       "      <td>Summary - DataLoaders</td>\n",
       "    </tr>\n",
       "    <tr>\n",
       "      <th>73</th>\n",
       "      <td>74</td>\n",
       "      <td>Summary</td>\n",
       "      <td>Summary - Learner</td>\n",
       "    </tr>\n",
       "    <tr>\n",
       "      <th>74</th>\n",
       "      <td>75</td>\n",
       "      <td>Summary</td>\n",
       "      <td>Implementation notes</td>\n",
       "    </tr>\n",
       "    <tr>\n",
       "      <th>75</th>\n",
       "      <td>76</td>\n",
       "      <td>Summary</td>\n",
       "      <td>Distributed Training</td>\n",
       "    </tr>\n",
       "  </tbody>\n",
       "</table>\n",
       "<p>76 rows × 3 columns</p>\n",
       "</div>"
      ],
      "text/plain": [
       "     0         1                             2\n",
       "0    1  Concepts       Concepts - Data loading\n",
       "1    2  Concepts     Concepts - Model training\n",
       "2    3  Concepts  Concepts - Learner lifecycle\n",
       "3    4   Learner  Learner - Create an instance\n",
       "4    5   Learner    Learner - Init, Attributes\n",
       "..  ..       ...                           ...\n",
       "71  72   Summary           Summary - DataBlock\n",
       "72  73   Summary         Summary - DataLoaders\n",
       "73  74   Summary             Summary - Learner\n",
       "74  75   Summary          Implementation notes\n",
       "75  76   Summary          Distributed Training\n",
       "\n",
       "[76 rows x 3 columns]"
      ]
     },
     "execution_count": 6,
     "metadata": {},
     "output_type": "execute_result"
    }
   ],
   "source": [
    "titles = pd.read_csv(\"titles.csv\", sep=';', header=None)\n",
    "titles"
   ]
  },
  {
   "cell_type": "code",
   "execution_count": 7,
   "id": "systematic-photographer",
   "metadata": {},
   "outputs": [],
   "source": [
    "# Extract slide number from the file names generated by PowerPoint\n",
    "slide_numbers_and_files = L(zip(files.map(lambda n: int(n.name[11-len(n.name):-4])),files))\n",
    "\n",
    "# Create suitable file names from the slides titles\n",
    "# Rename all svg files with their number and title\n",
    "target_filenames = L()\n",
    "for num,file in slide_numbers_and_files:\n",
    "    safe_title = titles[2].iloc[num-1].replace(' - ','-').replace(',','').replace(' ','_').replace('/','_')\n",
    "    target_filename = ('0' if num<=9 else '')+str(num)+'_'+safe_title+'.svg'\n",
    "    target_filenames.append((num,target_filename))\n",
    "    file.rename(p/target_filename)\n",
    "                                                                                                   \n",
    "# Add these filenames to the titles table for later use                                                                                                   \n",
    "target_filenames.sort(key=lambda t:t[0])\n",
    "titles[3] = target_filenames.itemgot(1)\n",
    "titles\n",
    "\n",
    "# Reload list of files\n",
    "files = get_files(p, extensions=\".SVG\")"
   ]
  },
  {
   "cell_type": "markdown",
   "id": "2abb3937",
   "metadata": {},
   "source": [
    "Move images to the subdirectory ./images/fastaidocs :"
   ]
  },
  {
   "cell_type": "code",
   "execution_count": 15,
   "id": "8609dd33",
   "metadata": {},
   "outputs": [],
   "source": [
    "import shutil\n",
    "\n",
    "destpath = Path('./images/fastaidocs')\n",
    "destpath.mkdir(parents=True, exist_ok=True) \n",
    "\n",
    "for src_file in p.glob('*.*'):\n",
    "    shutil.copy(src_file, destpath)\n",
    "\n",
    "shutil.rmtree(p)\n",
    "p = destpath"
   ]
  },
  {
   "cell_type": "markdown",
   "id": "chronic-headset",
   "metadata": {},
   "source": [
    "## 3. Insert links to fastai docs or code in the SVG files\n",
    "\n",
    "Note : this is implemented as a post-processing step because PowerPoint doesn't support links in its SVG export feature (May 2021)."
   ]
  },
  {
   "cell_type": "markdown",
   "id": "theoretical-shower",
   "metadata": {},
   "source": [
    "### 3.1 Collect all links and anchors from https://docs.fast.ai in a single csv file (optional)\n",
    "\n",
    "This is useful in the next step to speed up the process of assigning a useful link to each visual element in the slides.\n",
    "\n",
    "With the generated \"docs.fast.ai.csv\" file opened in a table editor (separator ';' and UTF8 encoding), you can locate very quickly the link you need and copy-paste it.\n",
    "\n",
    "To do this, we simply crawl the docs.fast.ai website ..."
   ]
  },
  {
   "cell_type": "markdown",
   "id": "9a29d751",
   "metadata": {},
   "source": [
    "**IMPORTANT : first, rename your 'docs.fast.ai.csv' file to 'docs.fast.ai_old.csv'** before running the cell below, if you want to be able to compare links for the new version of the docs and links for the old version of the docs."
   ]
  },
  {
   "cell_type": "code",
   "execution_count": 38,
   "id": "trained-hierarchy",
   "metadata": {},
   "outputs": [
    {
     "name": "stdout",
     "output_type": "stream",
     "text": [
      "9 - Welcome to fastai - /index.html => Welcome to fastai - \n",
      "Crawling : https://docs.fast.ai/index.html\n",
      "9 - Quick start - /quick_start.html => Quick start - \n",
      "Crawling : https://docs.fast.ai/quick_start.html\n",
      "11 - Tutorials - /tutorial.html => Tutorials - \n",
      "Crawling : https://docs.fast.ai/tutorial.html\n",
      "13 - Computer vision intro - /tutorial.vision.html => Tutorials - Beginner\n",
      "Crawling : https://docs.fast.ai/tutorial.vision.html\n",
      "13 - Text transfer learning - /tutorial.text.html => Tutorials - Beginner\n",
      "Crawling : https://docs.fast.ai/tutorial.text.html\n",
      "13 - Tabular training - /tutorial.tabular.html => Tutorials - Beginner\n",
      "Crawling : https://docs.fast.ai/tutorial.tabular.html\n",
      "13 - Collaborative filtering tutorial - /tutorial.collab.html => Tutorials - Beginner\n",
      "Crawling : https://docs.fast.ai/tutorial.collab.html\n",
      "13 - Data block tutorial - /tutorial.datablock.html => Tutorials - Intermediate\n",
      "Crawling : https://docs.fast.ai/tutorial.datablock.html\n",
      "13 - Training Imagenette - /tutorial.imagenette.html => Tutorials - Intermediate\n",
      "Crawling : https://docs.fast.ai/tutorial.imagenette.html\n",
      "13 - Mid-tier data API - Pets - /tutorial.pets.html => Tutorials - Intermediate\n",
      "Crawling : https://docs.fast.ai/tutorial.pets.html\n",
      "13 - Chest X-ray model - /tutorial.medical_imaging.html => Tutorials - Intermediate\n",
      "Crawling : https://docs.fast.ai/tutorial.medical_imaging.html\n",
      "13 - Transformers - /tutorial.transformers.html => Tutorials - Intermediate\n",
      "Crawling : https://docs.fast.ai/tutorial.transformers.html\n",
      "13 - Wikitext data tutorial - /tutorial.wikitext.html => Tutorials - Intermediate\n",
      "Crawling : https://docs.fast.ai/tutorial.wikitext.html\n",
      "13 - Notebook distributed training - /tutorial.distributed.html => Tutorials - Intermediate\n",
      "Crawling : https://docs.fast.ai/tutorial.distributed.html\n",
      "13 - Custom transforms - /tutorial.albumentations.html => Tutorials - Advanced\n",
      "Crawling : https://docs.fast.ai/tutorial.albumentations.html\n",
      "13 - Custom new task - siamese - /tutorial.siamese.html => Tutorials - Advanced\n",
      "Crawling : https://docs.fast.ai/tutorial.siamese.html\n",
      "13 - Image sequences - /tutorial.image_sequence.html => Tutorials - Advanced\n",
      "Crawling : https://docs.fast.ai/tutorial.image_sequence.html\n",
      "13 - Pure PyTorch to fastai - /examples/migrating_pytorch.html => Tutorials - Migrating from Other Libs\n",
      "Crawling : https://docs.fast.ai/examples/migrating_pytorch.html\n",
      "13 - Pytorch to fastai details - /examples/migrating_pytorch_verbose.html => Tutorials - Migrating from Other Libs\n",
      "Crawling : https://docs.fast.ai/examples/migrating_pytorch_verbose.html\n",
      "13 - Ignite with fastai - /examples/migrating_ignite.html => Tutorials - Migrating from Other Libs\n",
      "Crawling : https://docs.fast.ai/examples/migrating_ignite.html\n",
      "13 - Lightning with fastai - /examples/migrating_lightning.html => Tutorials - Migrating from Other Libs\n",
      "Crawling : https://docs.fast.ai/examples/migrating_lightning.html\n",
      "13 - Catalyst with fastai - /examples/migrating_catalyst.html => Tutorials - Migrating from Other Libs\n",
      "Crawling : https://docs.fast.ai/examples/migrating_catalyst.html\n",
      "11 - Learner, Metrics, Callbacks - /learner.html => Training - \n",
      "Crawling : https://docs.fast.ai/learner.html\n",
      "11 - Optimizers - /optimizer.html => Training - \n",
      "Crawling : https://docs.fast.ai/optimizer.html\n",
      "11 - Metrics - /metrics.html => Training - \n",
      "Crawling : https://docs.fast.ai/metrics.html\n",
      "11 - Interpretation of Predictions - /interpret.html => Training - \n",
      "Crawling : https://docs.fast.ai/interpret.html\n",
      "11 - Distributed training - /distributed.html => Training - \n",
      "Crawling : https://docs.fast.ai/distributed.html\n",
      "13 - Callbacks - /callback.core.html => Training - Callbacks\n",
      "Crawling : https://docs.fast.ai/callback.core.html\n",
      "13 - Model hooks - /callback.hook.html => Training - Callbacks\n",
      "Crawling : https://docs.fast.ai/callback.hook.html\n",
      "13 - Progress and logging - /callback.progress.html => Training - Callbacks\n",
      "Crawling : https://docs.fast.ai/callback.progress.html\n",
      "13 - Hyperparam schedule - /callback.schedule.html => Training - Callbacks\n",
      "Crawling : https://docs.fast.ai/callback.schedule.html\n",
      "13 - Data Callbacks - /callback.data.html => Training - Callbacks\n",
      "Crawling : https://docs.fast.ai/callback.data.html\n",
      "13 - Mixed precision training - /callback.fp16.html => Training - Callbacks\n",
      "Crawling : https://docs.fast.ai/callback.fp16.html\n",
      "13 - MixUp and Friends - /callback.mixup.html => Training - Callbacks\n",
      "Crawling : https://docs.fast.ai/callback.mixup.html\n",
      "13 - Predictions callbacks - /callback.preds.html => Training - Callbacks\n",
      "Crawling : https://docs.fast.ai/callback.preds.html\n",
      "13 - Callback for RNN training - /callback.rnn.html => Training - Callbacks\n",
      "Crawling : https://docs.fast.ai/callback.rnn.html\n",
      "13 - Tracking callbacks - /callback.tracker.html => Training - Callbacks\n",
      "Crawling : https://docs.fast.ai/callback.tracker.html\n",
      "13 - Training callbacks - /callback.training.html => Training - Callbacks\n",
      "Crawling : https://docs.fast.ai/callback.training.html\n",
      "11 - Data block - /data.block.html => Data - \n",
      "Crawling : https://docs.fast.ai/data.block.html\n",
      "11 - Data core - /data.core.html => Data - \n",
      "Crawling : https://docs.fast.ai/data.core.html\n",
      "11 - DataLoaders - /data.load.html => Data - \n",
      "Crawling : https://docs.fast.ai/data.load.html\n",
      "11 - External data - /data.external.html => Data - \n",
      "Crawling : https://docs.fast.ai/data.external.html\n",
      "11 - Data transformations - /data.transforms.html => Data - \n",
      "Crawling : https://docs.fast.ai/data.transforms.html\n",
      "11 - Torch Core - /torch_core.html => Core - \n",
      "Crawling : https://docs.fast.ai/torch_core.html\n",
      "11 - Layers - /layers.html => Core - \n",
      "Crawling : https://docs.fast.ai/layers.html\n",
      "11 - Loss Functions - /losses.html => Core - \n",
      "Crawling : https://docs.fast.ai/losses.html\n",
      "11 - Core vision - /vision.core.html => Vision - \n",
      "Crawling : https://docs.fast.ai/vision.core.html\n",
      "11 - Vision data - /vision.data.html => Vision - \n",
      "Crawling : https://docs.fast.ai/vision.data.html\n",
      "11 - Vision augmentation - /vision.augment.html => Vision - \n",
      "Crawling : https://docs.fast.ai/vision.augment.html\n",
      "11 - Vision learner - /vision.learner.html => Vision - \n",
      "Crawling : https://docs.fast.ai/vision.learner.html\n",
      "13 - XResnet - /vision.models.xresnet.html => Vision - Models\n",
      "Crawling : https://docs.fast.ai/vision.models.xresnet.html\n",
      "13 - Dynamic UNet - /vision.models.unet.html => Vision - Models\n",
      "Crawling : https://docs.fast.ai/vision.models.unet.html\n",
      "11 - GAN - /vision.gan.html => Vision - \n",
      "Crawling : https://docs.fast.ai/vision.gan.html\n",
      "11 - Vision utils - /vision.utils.html => Vision - \n",
      "Crawling : https://docs.fast.ai/vision.utils.html\n",
      "11 - Vision widgets - /vision.widgets.html => Vision - \n",
      "Crawling : https://docs.fast.ai/vision.widgets.html\n",
      "11 - Text core - /text.core.html => Text - \n",
      "Crawling : https://docs.fast.ai/text.core.html\n",
      "11 - Text data - /text.data.html => Text - \n",
      "Crawling : https://docs.fast.ai/text.data.html\n",
      "11 - Text learner - /text.learner.html => Text - \n",
      "Crawling : https://docs.fast.ai/text.learner.html\n",
      "13 - Core text modules - /text.models.core.html => Text - Models\n",
      "Crawling : https://docs.fast.ai/text.models.core.html\n",
      "13 - AWD-LSTM - /text.models.awdlstm.html => Text - Models\n",
      "Crawling : https://docs.fast.ai/text.models.awdlstm.html\n",
      "11 - Tabular core - /tabular.core.html => Tabular - \n",
      "Crawling : https://docs.fast.ai/tabular.core.html\n",
      "11 - Tabular data - /tabular.data.html => Tabular - \n",
      "Crawling : https://docs.fast.ai/tabular.data.html\n",
      "11 - Tabular learner - /tabular.learner.html => Tabular - \n",
      "Crawling : https://docs.fast.ai/tabular.learner.html\n",
      "11 - Tabular model - /tabular.model.html => Tabular - \n",
      "Crawling : https://docs.fast.ai/tabular.model.html\n",
      "11 - Collaborative filtering - /collab.html => Tabular - \n",
      "Crawling : https://docs.fast.ai/collab.html\n",
      "11 - Medical Imaging - /medical.imaging.html => Medical - \n",
      "Crawling : https://docs.fast.ai/medical.imaging.html\n",
      "11 - Medical Text - /medical.text.html => Medical - \n",
      "Crawling : https://docs.fast.ai/medical.text.html\n",
      "11 - Wandb - /callback.wandb.html => Integrations - \n",
      "Crawling : https://docs.fast.ai/callback.wandb.html\n",
      "11 - Captum - /callback.captum.html => Integrations - \n",
      "Crawling : https://docs.fast.ai/callback.captum.html\n",
      "11 - Neptune.ai - /callback.neptune.html => Integrations - \n",
      "Crawling : https://docs.fast.ai/callback.neptune.html\n"
     ]
    },
    {
     "name": "stdout",
     "output_type": "stream",
     "text": [
      "11 - Comet.ml - /callback.comet.html => Integrations - \n",
      "Crawling : https://docs.fast.ai/callback.comet.html\n",
      "11 - Tensorboard - /callback.tensorboard.html => Integrations - \n",
      "Crawling : https://docs.fast.ai/callback.tensorboard.html\n",
      "11 - Hugging Face Hub - /huggingface.html => Integrations - \n",
      "Crawling : https://docs.fast.ai/huggingface.html\n",
      "11 - Pull requests made easy - /dev-setup.html => fastai Development - \n",
      "Crawling : https://docs.fast.ai/dev-setup.html\n",
      "11 - git Notes - /dev/git.html => fastai Development - \n",
      "Crawling : https://docs.fast.ai/dev/git.html\n",
      "11 - fastai Abbreviation Guide - /dev/abbr.html => fastai Development - \n",
      "Crawling : https://docs.fast.ai/dev/abbr.html\n",
      "11 - fastai coding style - /dev/style.html => fastai Development - \n",
      "Crawling : https://docs.fast.ai/dev/style.html\n",
      "11 - Working with GPU - /dev/gpu.html => fastai Development - \n",
      "Crawling : https://docs.fast.ai/dev/gpu.html\n",
      "11 - Notes For Developers - /dev/develop.html => fastai Development - \n",
      "Crawling : https://docs.fast.ai/dev/develop.html\n"
     ]
    }
   ],
   "source": [
    "import requests\n",
    "from bs4 import BeautifulSoup\n",
    "\n",
    "rooturl = \"https://docs.fast.ai/\"\n",
    "\n",
    "html = requests.get(url=rooturl).text\n",
    "page = BeautifulSoup(html, 'html.parser')\n",
    "\n",
    "title1 = \"\"\n",
    "title2 = \"\"\n",
    "\n",
    "with open('docs.fast.ai.csv', 'w') as csvfile:\n",
    "    writer = csv.writer(csvfile, delimiter=';', quotechar='\\\\', quoting=csv.QUOTE_MINIMAL)\n",
    "    \n",
    "    for link in page.find(\"div\",attrs={\"class\":\"sidebar-menu-container\"}).find_all(\"a\"): \n",
    "        if link.has_attr('class') and ('sidebar-item-toggle' in link['class']): continue        \n",
    "        txt = link.string\n",
    "        if not link.has_attr('href'): \n",
    "            url = \"#\"\n",
    "        else:\n",
    "            url = link['href'].lstrip('.')\n",
    "        depth = len(list(link.parents))\n",
    "        if depth==9:\n",
    "            title1 = txt\n",
    "            title2 = \"\"\n",
    "            if url==\"#\": continue\n",
    "        elif depth==11 and link.has_attr('data-bs-toggle'):\n",
    "            title2 = txt\n",
    "            continue\n",
    "        elif depth==11 and url!=\"#\":\n",
    "            title2 = \"\"\n",
    "        \n",
    "        print(f\"{depth} - {txt} - {url} => {title1} - {title2}\")\n",
    "\n",
    "        baseurl = f\"https://docs.fast.ai{url}\"\n",
    "        writer.writerow([title1,title2,txt,baseurl])\n",
    "        print(\"Crawling : \"+baseurl+\"\\r\")\n",
    "        \n",
    "        html2 = requests.get(url=baseurl).text\n",
    "        page2 = BeautifulSoup(html2, 'html.parser')\n",
    "\n",
    "        for header in page2.find_all([\"h2\",\"h3\",\"h4\"]):\n",
    "            strs = list(header.strings)\n",
    "            if len(strs)==1:\n",
    "                txt2 = strs[0]\n",
    "            else:\n",
    "                txt2 = \"\".join(strs[:-1])\n",
    "            if txt2 == \"On this page\": continue\n",
    "            if header.has_attr('id'):\n",
    "                url2 = header['id']\n",
    "            elif header.has_attr('data-anchor-id'):\n",
    "                url2 = header['data-anchor-id']\n",
    "            else:\n",
    "                continue\n",
    "            depth = int(header.name[1:])\n",
    "\n",
    "            writer.writerow(['']*depth+[txt2,f\"{baseurl}#{url2}\"])"
   ]
  },
  {
   "cell_type": "code",
   "execution_count": 60,
   "id": "1a5892c0",
   "metadata": {},
   "outputs": [],
   "source": [
    "oldlinks = set()\n",
    "oldfile = open('docs.fast.ai_old.csv', 'r')\n",
    "for line in oldfile.readlines():\n",
    "    link = line.split(';')[-1].strip('\\n')\n",
    "    oldlinks.add(link)"
   ]
  },
  {
   "cell_type": "code",
   "execution_count": 61,
   "id": "66ed09ef",
   "metadata": {},
   "outputs": [],
   "source": [
    "newlinks = set()\n",
    "newfile = open('docs.fast.ai.csv', 'r')\n",
    "for line in newfile.readlines():\n",
    "    link = line.split(';')[-1].strip('\\n')\n",
    "    newlinks.add(link)"
   ]
  },
  {
   "cell_type": "code",
   "execution_count": 62,
   "id": "a460b82c",
   "metadata": {},
   "outputs": [
    {
     "name": "stdout",
     "output_type": "stream",
     "text": [
      "85 links from the previous version of the docs don't exist anymore in the new version of the docs\n"
     ]
    },
    {
     "data": {
      "text/plain": [
       "{'https://docs.fast.ai/',\n",
       " 'https://docs.fast.ai/#about-fastai',\n",
       " 'https://docs.fast.ai/#contributing',\n",
       " 'https://docs.fast.ai/#docker-containers',\n",
       " 'https://docs.fast.ai/#installing',\n",
       " 'https://docs.fast.ai/#learning-fastai',\n",
       " 'https://docs.fast.ai/#migrating-from-other-libraries',\n",
       " 'https://docs.fast.ai/#tests',\n",
       " 'https://docs.fast.ai/#windows-support',\n",
       " 'https://docs.fast.ai/callback.fp16.html#problems-with-half-precision:',\n",
       " 'https://docs.fast.ai/callback.fp16.html#the-solution:-mixed-precision-training',\n",
       " \"https://docs.fast.ai/callback.fp16.html#what's-half-precision?\",\n",
       " 'https://docs.fast.ai/callback.hook.html#what-are-hooks?',\n",
       " 'https://docs.fast.ai/callback.neptune.html#how-to-use?',\n",
       " 'https://docs.fast.ai/callback.progress.html#learner.no_bar',\n",
       " 'https://docs.fast.ai/callback.wandb.html#example-of-use:',\n",
       " 'https://docs.fast.ai/data.external.html#download_data',\n",
       " 'https://docs.fast.ai/data.external.html#download_url',\n",
       " 'https://docs.fast.ai/data.external.html#downloading',\n",
       " 'https://docs.fast.ai/data.external.html#extract',\n",
       " 'https://docs.fast.ai/data.external.html#file_extract',\n",
       " 'https://docs.fast.ai/data.external.html#newest_folder',\n",
       " 'https://docs.fast.ai/data.external.html#rename_extracted',\n",
       " 'https://docs.fast.ai/data.transforms.html#get,-split,-and-label',\n",
       " 'https://docs.fast.ai/dev/git.html#1a-first-time',\n",
       " 'https://docs.fast.ai/dev/git.html#1b-subsequent-times',\n",
       " 'https://docs.fast.ai/dev/git.html#step-1-start-with-a-synced-fork-checkout',\n",
       " 'https://docs.fast.ai/dev/git.html#step-2-create-a-branch',\n",
       " 'https://docs.fast.ai/dev/git.html#step-6-push-your-changes',\n",
       " 'https://docs.fast.ai/dev/git.html#step-8-passing-ci-tests',\n",
       " 'https://docs.fast.ai/dev/performance.html',\n",
       " 'https://docs.fast.ai/dev/performance.html#background',\n",
       " 'https://docs.fast.ai/dev/performance.html#conda-packages',\n",
       " 'https://docs.fast.ai/dev/performance.html#faster-image-processing',\n",
       " 'https://docs.fast.ai/dev/performance.html#gpu-performance',\n",
       " 'https://docs.fast.ai/dev/performance.html#how-to-check-whether-youre-running-pillow-or-pillow-simd',\n",
       " 'https://docs.fast.ai/dev/performance.html#how-to-tell-whether-pillow-or-pillow-simd-is-using-libjpeg-turbo',\n",
       " 'https://docs.fast.ai/dev/performance.html#installation',\n",
       " 'https://docs.fast.ai/dev/performance.html#is-jpeg-compression-simd-optimized',\n",
       " 'https://docs.fast.ai/dev/performance.html#libjpeg-turbo',\n",
       " 'https://docs.fast.ai/dev/performance.html#mixed-precision-training',\n",
       " 'https://docs.fast.ai/dev/performance.html#pillow-simd',\n",
       " 'https://docs.fast.ai/dev/style.html#jeremys-notes-on-fastai-coding-style',\n",
       " 'https://docs.fast.ai/distributed.html#learner.distrib_ctx',\n",
       " 'https://docs.fast.ai/distributed.html#learner.parallel_ctx',\n",
       " 'https://docs.fast.ai/learner.html#to_detach_from_dl',\n",
       " 'https://docs.fast.ai/medical.imaging.html#dataset.save_jpg',\n",
       " 'https://docs.fast.ai/medical.imaging.html#dataset.save_tif16',\n",
       " 'https://docs.fast.ai/medical.imaging.html#dataset.to_uint16',\n",
       " 'https://docs.fast.ai/medical.imaging.html#none',\n",
       " 'https://docs.fast.ai/medical.imaging.html#tensor.save_jpg',\n",
       " 'https://docs.fast.ai/medical.imaging.html#tensor.save_tif16',\n",
       " 'https://docs.fast.ai/medical.imaging.html#tensor.to_uint16',\n",
       " 'https://docs.fast.ai/metrics.html#flatten_check',\n",
       " 'https://docs.fast.ai/migrating_catalyst.html',\n",
       " 'https://docs.fast.ai/migrating_catalyst.html#catalyst-code',\n",
       " 'https://docs.fast.ai/migrating_catalyst.html#changing-the-model',\n",
       " 'https://docs.fast.ai/migrating_catalyst.html#using-callbacks',\n",
       " 'https://docs.fast.ai/migrating_ignite.html',\n",
       " 'https://docs.fast.ai/migrating_lightning.html',\n",
       " 'https://docs.fast.ai/migrating_lightning.html#taking-advantage-of-fastai-data-blocks',\n",
       " \"https://docs.fast.ai/migrating_lightning.html#using-fastai's-training-loop\",\n",
       " 'https://docs.fast.ai/migrating_pytorch.html',\n",
       " 'https://docs.fast.ai/optimizer.html#lars/larc',\n",
       " 'https://docs.fast.ai/text.models.awdlstm.html#awd_qrnn',\n",
       " 'https://docs.fast.ai/text.models.awdlstm.html#qrnn',\n",
       " 'https://docs.fast.ai/text.models.qrnn.html',\n",
       " 'https://docs.fast.ai/text.models.qrnn.html#dispatch_cuda',\n",
       " 'https://docs.fast.ai/text.models.qrnn.html#forget_mult_cpu',\n",
       " 'https://docs.fast.ai/text.models.qrnn.html#forgetmult',\n",
       " 'https://docs.fast.ai/text.models.qrnn.html#forgetmultgpu',\n",
       " 'https://docs.fast.ai/text.models.qrnn.html#load_cpp',\n",
       " 'https://docs.fast.ai/text.models.qrnn.html#qrnn',\n",
       " 'https://docs.fast.ai/text.models.qrnn.html#qrnnlayer',\n",
       " 'https://docs.fast.ai/torch_core.html#dataframe.__init__',\n",
       " 'https://docs.fast.ai/torch_core.html#tensor.__array_eq__',\n",
       " 'https://docs.fast.ai/tutorial.datablock.html#mnist-(single-label)',\n",
       " 'https://docs.fast.ai/tutorial.datablock.html#pascal-(multi-label)',\n",
       " 'https://docs.fast.ai/tutorial.datablock.html#pets-(single-label)',\n",
       " 'https://docs.fast.ai/tutorial.medical_imaging.html#what-are-dicoms?',\n",
       " 'https://docs.fast.ai/tutorial.siamese.html#patch-in-a-siampredict-method-to-learner,-to-automatically-show-images-and-prediction',\n",
       " 'https://docs.fast.ai/vision.augment.html#flip/dihedral-gpu-helpers',\n",
       " 'https://docs.fast.ai/vision.augment.html#resize-with-crop,-pad-or-squish',\n",
       " 'https://docs.fast.ai/vision.core.html#none',\n",
       " 'https://docs.fast.ai/vision.widgets.html#box.__getitem__'}"
      ]
     },
     "execution_count": 62,
     "metadata": {},
     "output_type": "execute_result"
    }
   ],
   "source": [
    "missinglinks = set()\n",
    "for oldlink in oldlinks:\n",
    "    if \"docs.fast.ai\" in oldlink: # migration to v2.7.8\n",
    "        oldlink = oldlink.lower()\n",
    "    if not oldlink in newlinks:\n",
    "        missinglinks.add(oldlink)\n",
    "        \n",
    "print(f\"{len(missinglinks)} links from the previous version of the docs don't exist anymore in the new version of the docs\")\n",
    "missinglinks"
   ]
  },
  {
   "cell_type": "code",
   "execution_count": 63,
   "id": "797b8e05",
   "metadata": {},
   "outputs": [],
   "source": [
    "usedlinks = set()\n",
    "usedlinksdf = pd.read_csv('links.csv', sep=';', header=None, encoding='utf-8', keep_default_na=False)\n",
    "for usedlink in usedlinksdf[2]:\n",
    "    if len(usedlink)>=6 and usedlink[0]=='h':\n",
    "        usedlinks.add(usedlink)"
   ]
  },
  {
   "cell_type": "code",
   "execution_count": 64,
   "id": "3b1e1f37",
   "metadata": {},
   "outputs": [
    {
     "name": "stdout",
     "output_type": "stream",
     "text": [
      "97 links used in links.csv can't be found in the new version of the docs\n"
     ]
    },
    {
     "data": {
      "text/plain": [
       "{'https://docs.fast.ai/callback.progress.html#learner.no_bar',\n",
       " 'https://docs.fast.ai/data.external.html#download_data',\n",
       " 'https://docs.fast.ai/data.external.html#download_url',\n",
       " 'https://docs.fast.ai/data.external.html#file_extract',\n",
       " 'https://docs.fast.ai/optimizer.html#lars/larc',\n",
       " 'https://docs.fast.ai/test_utils.html#show_install',\n",
       " 'https://docs.fast.ai/text.models.awdlstm.html#awd_qrnn',\n",
       " 'https://docs.fast.ai/text.models.qrnn.html#qrnn',\n",
       " 'https://docs.fast.ai/text.models.qrnn.html#qrnnlayer',\n",
       " 'https://fastcore.fast.ai/dispatch.html#retain_types',\n",
       " 'https://github.com/fastai/fastai/blob/301016c5d3de2bdb5269121bd0716538d85f7409/fastai/data/load.py#L145',\n",
       " 'https://github.com/fastai/fastai/blob/301016c5d3de2bdb5269121bd0716538d85f7409/fastai/data/load.py#L146',\n",
       " 'https://github.com/fastai/fastai/blob/301016c5d3de2bdb5269121bd0716538d85f7409/fastai/data/load.py#L91',\n",
       " 'https://github.com/fastai/fastai/blob/a099769a8ffed48127ab7ba6422d133edc21dc71/fastai/callback/azureml.py#L13',\n",
       " 'https://github.com/fastai/fastai/blob/a099769a8ffed48127ab7ba6422d133edc21dc71/fastai/data/block.py#L100',\n",
       " 'https://github.com/fastai/fastai/blob/a099769a8ffed48127ab7ba6422d133edc21dc71/fastai/data/block.py#L105',\n",
       " 'https://github.com/fastai/fastai/blob/a099769a8ffed48127ab7ba6422d133edc21dc71/fastai/data/block.py#L112',\n",
       " 'https://github.com/fastai/fastai/blob/a099769a8ffed48127ab7ba6422d133edc21dc71/fastai/data/core.py#L105',\n",
       " 'https://github.com/fastai/fastai/blob/a099769a8ffed48127ab7ba6422d133edc21dc71/fastai/data/core.py#L145',\n",
       " 'https://github.com/fastai/fastai/blob/a099769a8ffed48127ab7ba6422d133edc21dc71/fastai/data/core.py#L154',\n",
       " 'https://github.com/fastai/fastai/blob/a099769a8ffed48127ab7ba6422d133edc21dc71/fastai/data/core.py#L157',\n",
       " 'https://github.com/fastai/fastai/blob/a099769a8ffed48127ab7ba6422d133edc21dc71/fastai/data/core.py#L161',\n",
       " 'https://github.com/fastai/fastai/blob/a099769a8ffed48127ab7ba6422d133edc21dc71/fastai/data/core.py#L171',\n",
       " 'https://github.com/fastai/fastai/blob/a099769a8ffed48127ab7ba6422d133edc21dc71/fastai/data/core.py#L178',\n",
       " 'https://github.com/fastai/fastai/blob/a099769a8ffed48127ab7ba6422d133edc21dc71/fastai/data/core.py#L179',\n",
       " 'https://github.com/fastai/fastai/blob/a099769a8ffed48127ab7ba6422d133edc21dc71/fastai/data/core.py#L182',\n",
       " 'https://github.com/fastai/fastai/blob/a099769a8ffed48127ab7ba6422d133edc21dc71/fastai/data/core.py#L192',\n",
       " 'https://github.com/fastai/fastai/blob/a099769a8ffed48127ab7ba6422d133edc21dc71/fastai/data/core.py#L210',\n",
       " 'https://github.com/fastai/fastai/blob/a099769a8ffed48127ab7ba6422d133edc21dc71/fastai/data/core.py#L217',\n",
       " 'https://github.com/fastai/fastai/blob/a099769a8ffed48127ab7ba6422d133edc21dc71/fastai/data/core.py#L221',\n",
       " 'https://github.com/fastai/fastai/blob/a099769a8ffed48127ab7ba6422d133edc21dc71/fastai/data/core.py#L23',\n",
       " 'https://github.com/fastai/fastai/blob/a099769a8ffed48127ab7ba6422d133edc21dc71/fastai/data/core.py#L238',\n",
       " 'https://github.com/fastai/fastai/blob/a099769a8ffed48127ab7ba6422d133edc21dc71/fastai/data/core.py#L246',\n",
       " 'https://github.com/fastai/fastai/blob/a099769a8ffed48127ab7ba6422d133edc21dc71/fastai/data/core.py#L247',\n",
       " 'https://github.com/fastai/fastai/blob/a099769a8ffed48127ab7ba6422d133edc21dc71/fastai/data/core.py#L248',\n",
       " 'https://github.com/fastai/fastai/blob/a099769a8ffed48127ab7ba6422d133edc21dc71/fastai/data/core.py#L260',\n",
       " 'https://github.com/fastai/fastai/blob/a099769a8ffed48127ab7ba6422d133edc21dc71/fastai/data/core.py#L264',\n",
       " 'https://github.com/fastai/fastai/blob/a099769a8ffed48127ab7ba6422d133edc21dc71/fastai/data/core.py#L265',\n",
       " 'https://github.com/fastai/fastai/blob/a099769a8ffed48127ab7ba6422d133edc21dc71/fastai/data/core.py#L266',\n",
       " 'https://github.com/fastai/fastai/blob/a099769a8ffed48127ab7ba6422d133edc21dc71/fastai/data/core.py#L267',\n",
       " 'https://github.com/fastai/fastai/blob/a099769a8ffed48127ab7ba6422d133edc21dc71/fastai/data/core.py#L268',\n",
       " 'https://github.com/fastai/fastai/blob/a099769a8ffed48127ab7ba6422d133edc21dc71/fastai/data/core.py#L270',\n",
       " 'https://github.com/fastai/fastai/blob/a099769a8ffed48127ab7ba6422d133edc21dc71/fastai/data/core.py#L293',\n",
       " 'https://github.com/fastai/fastai/blob/a099769a8ffed48127ab7ba6422d133edc21dc71/fastai/data/core.py#L296',\n",
       " 'https://github.com/fastai/fastai/blob/a099769a8ffed48127ab7ba6422d133edc21dc71/fastai/data/core.py#L328',\n",
       " 'https://github.com/fastai/fastai/blob/a099769a8ffed48127ab7ba6422d133edc21dc71/fastai/data/core.py#L329',\n",
       " 'https://github.com/fastai/fastai/blob/a099769a8ffed48127ab7ba6422d133edc21dc71/fastai/data/core.py#L330',\n",
       " 'https://github.com/fastai/fastai/blob/a099769a8ffed48127ab7ba6422d133edc21dc71/fastai/data/core.py#L332',\n",
       " 'https://github.com/fastai/fastai/blob/a099769a8ffed48127ab7ba6422d133edc21dc71/fastai/data/core.py#L338',\n",
       " 'https://github.com/fastai/fastai/blob/a099769a8ffed48127ab7ba6422d133edc21dc71/fastai/data/core.py#L342',\n",
       " 'https://github.com/fastai/fastai/blob/a099769a8ffed48127ab7ba6422d133edc21dc71/fastai/data/core.py#L344',\n",
       " 'https://github.com/fastai/fastai/blob/a099769a8ffed48127ab7ba6422d133edc21dc71/fastai/data/core.py#L361',\n",
       " 'https://github.com/fastai/fastai/blob/a099769a8ffed48127ab7ba6422d133edc21dc71/fastai/data/core.py#L50',\n",
       " 'https://github.com/fastai/fastai/blob/a099769a8ffed48127ab7ba6422d133edc21dc71/fastai/data/core.py#L88',\n",
       " 'https://github.com/fastai/fastai/blob/a099769a8ffed48127ab7ba6422d133edc21dc71/fastai/data/load.py#L102',\n",
       " 'https://github.com/fastai/fastai/blob/a099769a8ffed48127ab7ba6422d133edc21dc71/fastai/data/load.py#L105',\n",
       " 'https://github.com/fastai/fastai/blob/a099769a8ffed48127ab7ba6422d133edc21dc71/fastai/data/load.py#L107',\n",
       " 'https://github.com/fastai/fastai/blob/a099769a8ffed48127ab7ba6422d133edc21dc71/fastai/data/load.py#L111',\n",
       " 'https://github.com/fastai/fastai/blob/a099769a8ffed48127ab7ba6422d133edc21dc71/fastai/data/load.py#L120',\n",
       " 'https://github.com/fastai/fastai/blob/a099769a8ffed48127ab7ba6422d133edc21dc71/fastai/data/load.py#L132',\n",
       " 'https://github.com/fastai/fastai/blob/a099769a8ffed48127ab7ba6422d133edc21dc71/fastai/data/load.py#L133',\n",
       " 'https://github.com/fastai/fastai/blob/a099769a8ffed48127ab7ba6422d133edc21dc71/fastai/data/load.py#L135',\n",
       " 'https://github.com/fastai/fastai/blob/a099769a8ffed48127ab7ba6422d133edc21dc71/fastai/data/load.py#L137',\n",
       " 'https://github.com/fastai/fastai/blob/a099769a8ffed48127ab7ba6422d133edc21dc71/fastai/data/load.py#L139',\n",
       " 'https://github.com/fastai/fastai/blob/a099769a8ffed48127ab7ba6422d133edc21dc71/fastai/data/load.py#L143',\n",
       " 'https://github.com/fastai/fastai/blob/a099769a8ffed48127ab7ba6422d133edc21dc71/fastai/data/load.py#L144',\n",
       " 'https://github.com/fastai/fastai/blob/a099769a8ffed48127ab7ba6422d133edc21dc71/fastai/interpret.py#L101',\n",
       " 'https://github.com/fastai/fastai/blob/a099769a8ffed48127ab7ba6422d133edc21dc71/fastai/interpret.py#L26',\n",
       " 'https://github.com/fastai/fastai/blob/a099769a8ffed48127ab7ba6422d133edc21dc71/fastai/interpret.py#L31',\n",
       " 'https://github.com/fastai/fastai/blob/a099769a8ffed48127ab7ba6422d133edc21dc71/fastai/interpret.py#L35',\n",
       " 'https://github.com/fastai/fastai/blob/a099769a8ffed48127ab7ba6422d133edc21dc71/fastai/interpret.py#L59',\n",
       " 'https://github.com/fastai/fastai/blob/a099769a8ffed48127ab7ba6422d133edc21dc71/fastai/interpret.py#L66',\n",
       " 'https://github.com/fastai/fastai/blob/a099769a8ffed48127ab7ba6422d133edc21dc71/fastai/interpret.py#L93',\n",
       " 'https://github.com/fastai/fastai/blob/a099769a8ffed48127ab7ba6422d133edc21dc71/fastai/learner.py#L168',\n",
       " 'https://github.com/fastai/fastai/blob/a099769a8ffed48127ab7ba6422d133edc21dc71/fastai/learner.py#L193',\n",
       " 'https://github.com/fastai/fastai/blob/a099769a8ffed48127ab7ba6422d133edc21dc71/fastai/learner.py#L197',\n",
       " 'https://github.com/fastai/fastai/blob/a099769a8ffed48127ab7ba6422d133edc21dc71/fastai/learner.py#L206',\n",
       " 'https://github.com/fastai/fastai/blob/a099769a8ffed48127ab7ba6422d133edc21dc71/fastai/learner.py#L220',\n",
       " 'https://github.com/fastai/fastai/blob/a099769a8ffed48127ab7ba6422d133edc21dc71/fastai/learner.py#L224',\n",
       " 'https://github.com/fastai/fastai/blob/a099769a8ffed48127ab7ba6422d133edc21dc71/fastai/learner.py#L288',\n",
       " 'https://github.com/fastai/fastai/blob/a099769a8ffed48127ab7ba6422d133edc21dc71/fastai/learner.py#L515',\n",
       " 'https://github.com/fastai/fastai/blob/a099769a8ffed48127ab7ba6422d133edc21dc71/fastai/learner.py#L516',\n",
       " 'https://github.com/fastai/fastai/blob/a099769a8ffed48127ab7ba6422d133edc21dc71/fastai/tabular/core.py#L142',\n",
       " 'https://github.com/fastai/fastai/blob/a099769a8ffed48127ab7ba6422d133edc21dc71/fastai/tabular/core.py#L199',\n",
       " 'https://github.com/fastai/fastai/blob/a099769a8ffed48127ab7ba6422d133edc21dc71/fastai/text/core.py#L265',\n",
       " 'https://github.com/fastai/fastai/blob/a099769a8ffed48127ab7ba6422d133edc21dc71/fastai/text/core.py#L274',\n",
       " 'https://github.com/fastai/fastai/blob/master/a099769a8ffed48127ab7ba6422d133edc21dc71/losses.py#L13',\n",
       " 'https://pandas.pydata.org/pandas-docs/stable/reference/api/pandas.read_csv.html',\n",
       " 'https://pandas.pydata.org/pandas-docs/stable/reference/api/pandas.read_json.html',\n",
       " 'https://pytorch.org/docs/stable/data.html#dataset-types',\n",
       " 'https://pytorch.org/docs/stable/data.html#multi-process-data-loading',\n",
       " 'https://pytorch.org/docs/stable/generated/torch.nn.LeakyReLU.html#torch.nn.LeakyReLU',\n",
       " 'https://pytorch.org/docs/stable/generated/torch.nn.ReLU.html#torch.nn.ReLU',\n",
       " 'https://pytorch.org/docs/stable/generated/torch.nn.ReLU6.html#torch.nn.ReLU6',\n",
       " 'https://pytorch.org/docs/stable/generated/torch.nn.Sigmoid.html#torch.nn.Sigmoid',\n",
       " 'https://pytorch.org/docs/stable/generated/torch.nn.Tanh.html#torch.nn.Tanh',\n",
       " 'https://www.cognitivefactory.fr/fastaidocs/'}"
      ]
     },
     "execution_count": 64,
     "metadata": {},
     "output_type": "execute_result"
    }
   ],
   "source": [
    "notfoundlinks = usedlinks.difference(newlinks)\n",
    "\n",
    "print(f\"{len(notfoundlinks)} links used in links.csv can't be found in the new version of the docs\")\n",
    "notfoundlinks"
   ]
  },
  {
   "cell_type": "markdown",
   "id": "coordinated-suite",
   "metadata": {},
   "source": [
    "# 3.2 Update links table"
   ]
  },
  {
   "cell_type": "code",
   "execution_count": 8,
   "id": "olive-avenue",
   "metadata": {},
   "outputs": [],
   "source": [
    "# Utility functions to parse SVG xml files\n",
    "from xml.dom.minidom import parse\n",
    "\n",
    "def get_descendant_nodes(context_node, predicate):\n",
    "    if not context_node:\n",
    "        yield None\n",
    "    for child in context_node.childNodes:\n",
    "        if predicate(child):\n",
    "            yield child\n",
    "        yield from get_descendant_nodes(child, predicate)\n",
    "\n",
    "def get_text_value(context_node, default=None):\n",
    "    texts_nodes = get_descendant_nodes(context_node, lambda n: n.nodeType == n.TEXT_NODE)\n",
    "    text_value = ' '.join([str.strip(t.nodeValue) for t in texts_nodes])\n",
    "    return text_value if text_value else default"
   ]
  },
  {
   "cell_type": "markdown",
   "id": "danish-meter",
   "metadata": {},
   "source": [
    "1. Refresh the links table in \"links.csv\" by running the code below. \n",
    "\n",
    "The idea is :\n",
    "  - scan all SVG files\n",
    "  - locate all text elements in the SVG file\n",
    "  - check if the text element was already referenced in the links table\n",
    "    - if it wasn't : add it to the table and flag it \"NEW\"\n",
    "    - if it was : flag it \"OK\"\n",
    "  - after all SVG files were scanned, mark all remaining text elements in the table \"REMOVED\" "
   ]
  },
  {
   "cell_type": "code",
   "execution_count": 9,
   "id": "figured-princess",
   "metadata": {},
   "outputs": [],
   "source": [
    "links = pd.read_csv('links.csv', sep=';', header=None, encoding='utf-8', keep_default_na=False)"
   ]
  },
  {
   "cell_type": "code",
   "execution_count": 10,
   "id": "sophisticated-lexington",
   "metadata": {},
   "outputs": [
    {
     "name": "stderr",
     "output_type": "stream",
     "text": [
      "/tmp/ipykernel_86/75054589.py:11: FutureWarning: The frame.append method is deprecated and will be removed from pandas in a future version. Use pandas.concat instead.\n",
      "  links = links.append({0:file.name, 1:text, 2:'?', 3:\"NEW\"}, ignore_index=True)\n",
      "/tmp/ipykernel_86/75054589.py:11: FutureWarning: The frame.append method is deprecated and will be removed from pandas in a future version. Use pandas.concat instead.\n",
      "  links = links.append({0:file.name, 1:text, 2:'?', 3:\"NEW\"}, ignore_index=True)\n",
      "/tmp/ipykernel_86/75054589.py:11: FutureWarning: The frame.append method is deprecated and will be removed from pandas in a future version. Use pandas.concat instead.\n",
      "  links = links.append({0:file.name, 1:text, 2:'?', 3:\"NEW\"}, ignore_index=True)\n",
      "/tmp/ipykernel_86/75054589.py:11: FutureWarning: The frame.append method is deprecated and will be removed from pandas in a future version. Use pandas.concat instead.\n",
      "  links = links.append({0:file.name, 1:text, 2:'?', 3:\"NEW\"}, ignore_index=True)\n",
      "/tmp/ipykernel_86/75054589.py:11: FutureWarning: The frame.append method is deprecated and will be removed from pandas in a future version. Use pandas.concat instead.\n",
      "  links = links.append({0:file.name, 1:text, 2:'?', 3:\"NEW\"}, ignore_index=True)\n",
      "/tmp/ipykernel_86/75054589.py:11: FutureWarning: The frame.append method is deprecated and will be removed from pandas in a future version. Use pandas.concat instead.\n",
      "  links = links.append({0:file.name, 1:text, 2:'?', 3:\"NEW\"}, ignore_index=True)\n"
     ]
    },
    {
     "name": "stdout",
     "output_type": "stream",
     "text": [
      "01_Concepts-Data_loading.svg -> 35 labels\r\n",
      "02_Concepts-Model_training.svg -> 39 labels\r\n",
      "03_Concepts-Learner_lifecycle.svg -> 30 labels\r\n",
      "04_Learner-Create_an_instance.svg -> 21 labels\r\n"
     ]
    },
    {
     "name": "stderr",
     "output_type": "stream",
     "text": [
      "/tmp/ipykernel_86/75054589.py:11: FutureWarning: The frame.append method is deprecated and will be removed from pandas in a future version. Use pandas.concat instead.\n",
      "  links = links.append({0:file.name, 1:text, 2:'?', 3:\"NEW\"}, ignore_index=True)\n",
      "/tmp/ipykernel_86/75054589.py:11: FutureWarning: The frame.append method is deprecated and will be removed from pandas in a future version. Use pandas.concat instead.\n",
      "  links = links.append({0:file.name, 1:text, 2:'?', 3:\"NEW\"}, ignore_index=True)\n",
      "/tmp/ipykernel_86/75054589.py:11: FutureWarning: The frame.append method is deprecated and will be removed from pandas in a future version. Use pandas.concat instead.\n",
      "  links = links.append({0:file.name, 1:text, 2:'?', 3:\"NEW\"}, ignore_index=True)\n"
     ]
    },
    {
     "name": "stdout",
     "output_type": "stream",
     "text": [
      "05_Learner-Init_Attributes.svg -> 52 labels\r\n",
      "06_Learner-Training_methods.svg -> 24 labels\r\n",
      "07_Learner-Inference_methods.svg -> 22 labels\r\n",
      "08_Diagnostics-How_to_debug.svg -> 13 labels\r\n",
      "09_Show-Inputs_targets_predictions.svg -> 25 labels\r\n"
     ]
    },
    {
     "name": "stderr",
     "output_type": "stream",
     "text": [
      "/tmp/ipykernel_86/75054589.py:11: FutureWarning: The frame.append method is deprecated and will be removed from pandas in a future version. Use pandas.concat instead.\n",
      "  links = links.append({0:file.name, 1:text, 2:'?', 3:\"NEW\"}, ignore_index=True)\n",
      "/tmp/ipykernel_86/75054589.py:11: FutureWarning: The frame.append method is deprecated and will be removed from pandas in a future version. Use pandas.concat instead.\n",
      "  links = links.append({0:file.name, 1:text, 2:'?', 3:\"NEW\"}, ignore_index=True)\n",
      "/tmp/ipykernel_86/75054589.py:11: FutureWarning: The frame.append method is deprecated and will be removed from pandas in a future version. Use pandas.concat instead.\n",
      "  links = links.append({0:file.name, 1:text, 2:'?', 3:\"NEW\"}, ignore_index=True)\n",
      "/tmp/ipykernel_86/75054589.py:11: FutureWarning: The frame.append method is deprecated and will be removed from pandas in a future version. Use pandas.concat instead.\n",
      "  links = links.append({0:file.name, 1:text, 2:'?', 3:\"NEW\"}, ignore_index=True)\n"
     ]
    },
    {
     "name": "stdout",
     "output_type": "stream",
     "text": [
      "10_Show-Images.svg -> 17 labels\r\n",
      "11_Show-Text_points_boxes_tables.svg -> 14 labels\r\n",
      "12_Plot-Training_loop.svg -> 15 labels\r\n"
     ]
    },
    {
     "name": "stderr",
     "output_type": "stream",
     "text": [
      "/tmp/ipykernel_86/75054589.py:11: FutureWarning: The frame.append method is deprecated and will be removed from pandas in a future version. Use pandas.concat instead.\n",
      "  links = links.append({0:file.name, 1:text, 2:'?', 3:\"NEW\"}, ignore_index=True)\n",
      "/tmp/ipykernel_86/75054589.py:11: FutureWarning: The frame.append method is deprecated and will be removed from pandas in a future version. Use pandas.concat instead.\n",
      "  links = links.append({0:file.name, 1:text, 2:'?', 3:\"NEW\"}, ignore_index=True)\n",
      "/tmp/ipykernel_86/75054589.py:11: FutureWarning: The frame.append method is deprecated and will be removed from pandas in a future version. Use pandas.concat instead.\n",
      "  links = links.append({0:file.name, 1:text, 2:'?', 3:\"NEW\"}, ignore_index=True)\n"
     ]
    },
    {
     "name": "stdout",
     "output_type": "stream",
     "text": [
      "13_Model_evaluation-Interpretation.svg -> 23 labels\r\n",
      "14_Metrics-1_2.svg -> 26 labels\r\n",
      "15_Metrics-2_2.svg -> 49 labels\r\n"
     ]
    },
    {
     "name": "stderr",
     "output_type": "stream",
     "text": [
      "/tmp/ipykernel_86/75054589.py:11: FutureWarning: The frame.append method is deprecated and will be removed from pandas in a future version. Use pandas.concat instead.\n",
      "  links = links.append({0:file.name, 1:text, 2:'?', 3:\"NEW\"}, ignore_index=True)\n",
      "/tmp/ipykernel_86/75054589.py:11: FutureWarning: The frame.append method is deprecated and will be removed from pandas in a future version. Use pandas.concat instead.\n",
      "  links = links.append({0:file.name, 1:text, 2:'?', 3:\"NEW\"}, ignore_index=True)\n",
      "/tmp/ipykernel_86/75054589.py:11: FutureWarning: The frame.append method is deprecated and will be removed from pandas in a future version. Use pandas.concat instead.\n",
      "  links = links.append({0:file.name, 1:text, 2:'?', 3:\"NEW\"}, ignore_index=True)\n"
     ]
    },
    {
     "name": "stdout",
     "output_type": "stream",
     "text": [
      "16_Learner-Training_loop_1_2.svg -> 35 labels\r\n",
      "17_Learner-Training_loop_2_2.svg -> 28 labels\r\n"
     ]
    },
    {
     "name": "stderr",
     "output_type": "stream",
     "text": [
      "/tmp/ipykernel_86/75054589.py:11: FutureWarning: The frame.append method is deprecated and will be removed from pandas in a future version. Use pandas.concat instead.\n",
      "  links = links.append({0:file.name, 1:text, 2:'?', 3:\"NEW\"}, ignore_index=True)\n",
      "/tmp/ipykernel_86/75054589.py:11: FutureWarning: The frame.append method is deprecated and will be removed from pandas in a future version. Use pandas.concat instead.\n",
      "  links = links.append({0:file.name, 1:text, 2:'?', 3:\"NEW\"}, ignore_index=True)\n",
      "/tmp/ipykernel_86/75054589.py:11: FutureWarning: The frame.append method is deprecated and will be removed from pandas in a future version. Use pandas.concat instead.\n",
      "  links = links.append({0:file.name, 1:text, 2:'?', 3:\"NEW\"}, ignore_index=True)\n",
      "/tmp/ipykernel_86/75054589.py:11: FutureWarning: The frame.append method is deprecated and will be removed from pandas in a future version. Use pandas.concat instead.\n",
      "  links = links.append({0:file.name, 1:text, 2:'?', 3:\"NEW\"}, ignore_index=True)\n"
     ]
    },
    {
     "name": "stdout",
     "output_type": "stream",
     "text": [
      "18_Learner-Customize_training_loop.svg -> 20 labels\r\n",
      "19_Learner-Callbacks_1_2.svg -> 30 labels\r\n",
      "20_Learner-Callbacks_2_2.svg -> 20 labels\r\n",
      "21_Learner-Context_managers.svg -> 25 labels\r\n"
     ]
    },
    {
     "name": "stderr",
     "output_type": "stream",
     "text": [
      "/tmp/ipykernel_86/75054589.py:11: FutureWarning: The frame.append method is deprecated and will be removed from pandas in a future version. Use pandas.concat instead.\n",
      "  links = links.append({0:file.name, 1:text, 2:'?', 3:\"NEW\"}, ignore_index=True)\n",
      "/tmp/ipykernel_86/75054589.py:11: FutureWarning: The frame.append method is deprecated and will be removed from pandas in a future version. Use pandas.concat instead.\n",
      "  links = links.append({0:file.name, 1:text, 2:'?', 3:\"NEW\"}, ignore_index=True)\n",
      "/tmp/ipykernel_86/75054589.py:11: FutureWarning: The frame.append method is deprecated and will be removed from pandas in a future version. Use pandas.concat instead.\n",
      "  links = links.append({0:file.name, 1:text, 2:'?', 3:\"NEW\"}, ignore_index=True)\n",
      "/tmp/ipykernel_86/75054589.py:11: FutureWarning: The frame.append method is deprecated and will be removed from pandas in a future version. Use pandas.concat instead.\n",
      "  links = links.append({0:file.name, 1:text, 2:'?', 3:\"NEW\"}, ignore_index=True)\n"
     ]
    },
    {
     "name": "stdout",
     "output_type": "stream",
     "text": [
      "22_Learner-Public_methods_call_tree.svg -> 22 labels\r\n",
      "23_Learner-validate_and_Recorder.svg -> 11 labels\r\n",
      "24_Learner-get_preds_and_Loss_function.svg -> 13 labels\r\n"
     ]
    },
    {
     "name": "stderr",
     "output_type": "stream",
     "text": [
      "/tmp/ipykernel_86/75054589.py:11: FutureWarning: The frame.append method is deprecated and will be removed from pandas in a future version. Use pandas.concat instead.\n",
      "  links = links.append({0:file.name, 1:text, 2:'?', 3:\"NEW\"}, ignore_index=True)\n",
      "/tmp/ipykernel_86/75054589.py:11: FutureWarning: The frame.append method is deprecated and will be removed from pandas in a future version. Use pandas.concat instead.\n",
      "  links = links.append({0:file.name, 1:text, 2:'?', 3:\"NEW\"}, ignore_index=True)\n",
      "/tmp/ipykernel_86/75054589.py:11: FutureWarning: The frame.append method is deprecated and will be removed from pandas in a future version. Use pandas.concat instead.\n",
      "  links = links.append({0:file.name, 1:text, 2:'?', 3:\"NEW\"}, ignore_index=True)\n",
      "/tmp/ipykernel_86/75054589.py:11: FutureWarning: The frame.append method is deprecated and will be removed from pandas in a future version. Use pandas.concat instead.\n",
      "  links = links.append({0:file.name, 1:text, 2:'?', 3:\"NEW\"}, ignore_index=True)\n"
     ]
    },
    {
     "name": "stdout",
     "output_type": "stream",
     "text": [
      "25_Learner-predict_and_DataLoader.svg -> 14 labels\r\n",
      "26_Learner-show_results_and_DataLoader.svg -> 15 labels\r\n"
     ]
    },
    {
     "name": "stderr",
     "output_type": "stream",
     "text": [
      "/tmp/ipykernel_86/75054589.py:11: FutureWarning: The frame.append method is deprecated and will be removed from pandas in a future version. Use pandas.concat instead.\n",
      "  links = links.append({0:file.name, 1:text, 2:'?', 3:\"NEW\"}, ignore_index=True)\n",
      "/tmp/ipykernel_86/75054589.py:11: FutureWarning: The frame.append method is deprecated and will be removed from pandas in a future version. Use pandas.concat instead.\n",
      "  links = links.append({0:file.name, 1:text, 2:'?', 3:\"NEW\"}, ignore_index=True)\n",
      "/tmp/ipykernel_86/75054589.py:11: FutureWarning: The frame.append method is deprecated and will be removed from pandas in a future version. Use pandas.concat instead.\n",
      "  links = links.append({0:file.name, 1:text, 2:'?', 3:\"NEW\"}, ignore_index=True)\n",
      "/tmp/ipykernel_86/75054589.py:11: FutureWarning: The frame.append method is deprecated and will be removed from pandas in a future version. Use pandas.concat instead.\n",
      "  links = links.append({0:file.name, 1:text, 2:'?', 3:\"NEW\"}, ignore_index=True)\n"
     ]
    },
    {
     "name": "stdout",
     "output_type": "stream",
     "text": [
      "27_DataLoaders-Create_an_instance.svg -> 36 labels\r\n",
      "28_DataLoaders-Interface.svg -> 38 labels\r\n",
      "29_DataLoader-Interface.svg -> 22 labels\r\n"
     ]
    },
    {
     "name": "stderr",
     "output_type": "stream",
     "text": [
      "/tmp/ipykernel_86/75054589.py:11: FutureWarning: The frame.append method is deprecated and will be removed from pandas in a future version. Use pandas.concat instead.\n",
      "  links = links.append({0:file.name, 1:text, 2:'?', 3:\"NEW\"}, ignore_index=True)\n",
      "/tmp/ipykernel_86/75054589.py:11: FutureWarning: The frame.append method is deprecated and will be removed from pandas in a future version. Use pandas.concat instead.\n",
      "  links = links.append({0:file.name, 1:text, 2:'?', 3:\"NEW\"}, ignore_index=True)\n",
      "/tmp/ipykernel_86/75054589.py:11: FutureWarning: The frame.append method is deprecated and will be removed from pandas in a future version. Use pandas.concat instead.\n",
      "  links = links.append({0:file.name, 1:text, 2:'?', 3:\"NEW\"}, ignore_index=True)\n",
      "/tmp/ipykernel_86/75054589.py:11: FutureWarning: The frame.append method is deprecated and will be removed from pandas in a future version. Use pandas.concat instead.\n",
      "  links = links.append({0:file.name, 1:text, 2:'?', 3:\"NEW\"}, ignore_index=True)\n"
     ]
    },
    {
     "name": "stdout",
     "output_type": "stream",
     "text": [
      "30_DataLoader-Init.svg -> 26 labels\r\n",
      "31_DataLoader-iter()_and_next().svg -> 35 labels\r\n",
      "32_DataLoader-TfmdDL.svg -> 24 labels\r\n",
      "33_DataLoader-TfmdDL_subclasses.svg -> 19 labels\r\n"
     ]
    },
    {
     "name": "stderr",
     "output_type": "stream",
     "text": [
      "/tmp/ipykernel_86/75054589.py:11: FutureWarning: The frame.append method is deprecated and will be removed from pandas in a future version. Use pandas.concat instead.\n",
      "  links = links.append({0:file.name, 1:text, 2:'?', 3:\"NEW\"}, ignore_index=True)\n",
      "/tmp/ipykernel_86/75054589.py:11: FutureWarning: The frame.append method is deprecated and will be removed from pandas in a future version. Use pandas.concat instead.\n",
      "  links = links.append({0:file.name, 1:text, 2:'?', 3:\"NEW\"}, ignore_index=True)\n",
      "/tmp/ipykernel_86/75054589.py:11: FutureWarning: The frame.append method is deprecated and will be removed from pandas in a future version. Use pandas.concat instead.\n",
      "  links = links.append({0:file.name, 1:text, 2:'?', 3:\"NEW\"}, ignore_index=True)\n",
      "/tmp/ipykernel_86/75054589.py:11: FutureWarning: The frame.append method is deprecated and will be removed from pandas in a future version. Use pandas.concat instead.\n",
      "  links = links.append({0:file.name, 1:text, 2:'?', 3:\"NEW\"}, ignore_index=True)\n",
      "/tmp/ipykernel_86/75054589.py:11: FutureWarning: The frame.append method is deprecated and will be removed from pandas in a future version. Use pandas.concat instead.\n",
      "  links = links.append({0:file.name, 1:text, 2:'?', 3:\"NEW\"}, ignore_index=True)\n"
     ]
    },
    {
     "name": "stdout",
     "output_type": "stream",
     "text": [
      "34_Dataset-Interface.svg -> 32 labels\r\n",
      "35_Dataset-TfmdLists.svg -> 28 labels\r\n",
      "36_Dataset-Datasets.svg -> 26 labels\r\n",
      "37_Dataset-Tabular_datasets.svg -> 26 labels\r\n"
     ]
    },
    {
     "name": "stderr",
     "output_type": "stream",
     "text": [
      "/tmp/ipykernel_86/75054589.py:11: FutureWarning: The frame.append method is deprecated and will be removed from pandas in a future version. Use pandas.concat instead.\n",
      "  links = links.append({0:file.name, 1:text, 2:'?', 3:\"NEW\"}, ignore_index=True)\n",
      "/tmp/ipykernel_86/75054589.py:11: FutureWarning: The frame.append method is deprecated and will be removed from pandas in a future version. Use pandas.concat instead.\n",
      "  links = links.append({0:file.name, 1:text, 2:'?', 3:\"NEW\"}, ignore_index=True)\n",
      "/tmp/ipykernel_86/75054589.py:11: FutureWarning: The frame.append method is deprecated and will be removed from pandas in a future version. Use pandas.concat instead.\n",
      "  links = links.append({0:file.name, 1:text, 2:'?', 3:\"NEW\"}, ignore_index=True)\n"
     ]
    },
    {
     "name": "stdout",
     "output_type": "stream",
     "text": [
      "38_DataBlock.svg -> 25 labels\r\n",
      "39_DataBlock-Init_data_pipeline.svg -> 22 labels\r\n",
      "40_TransformBlocks-Labels.svg -> 14 labels\r\n",
      "41_TransformBlocks-Vision.svg -> 19 labels\r\n"
     ]
    },
    {
     "name": "stderr",
     "output_type": "stream",
     "text": [
      "/tmp/ipykernel_86/75054589.py:11: FutureWarning: The frame.append method is deprecated and will be removed from pandas in a future version. Use pandas.concat instead.\n",
      "  links = links.append({0:file.name, 1:text, 2:'?', 3:\"NEW\"}, ignore_index=True)\n",
      "/tmp/ipykernel_86/75054589.py:11: FutureWarning: The frame.append method is deprecated and will be removed from pandas in a future version. Use pandas.concat instead.\n",
      "  links = links.append({0:file.name, 1:text, 2:'?', 3:\"NEW\"}, ignore_index=True)\n",
      "/tmp/ipykernel_86/75054589.py:11: FutureWarning: The frame.append method is deprecated and will be removed from pandas in a future version. Use pandas.concat instead.\n",
      "  links = links.append({0:file.name, 1:text, 2:'?', 3:\"NEW\"}, ignore_index=True)\n"
     ]
    },
    {
     "name": "stdout",
     "output_type": "stream",
     "text": [
      "42_TransformBlocks-Text.svg -> 13 labels\r\n",
      "43_Download_datasets_and_models.svg -> 5 labels\r\n",
      "44_Download-Directories_config.svg -> 8 labels\r\n",
      "45_Dataset_Model_Learner-Directories.svg -> 23 labels\r\n",
      "46_Get_items.svg -> 16 labels\r\n"
     ]
    },
    {
     "name": "stderr",
     "output_type": "stream",
     "text": [
      "/tmp/ipykernel_86/75054589.py:11: FutureWarning: The frame.append method is deprecated and will be removed from pandas in a future version. Use pandas.concat instead.\n",
      "  links = links.append({0:file.name, 1:text, 2:'?', 3:\"NEW\"}, ignore_index=True)\n",
      "/tmp/ipykernel_86/75054589.py:11: FutureWarning: The frame.append method is deprecated and will be removed from pandas in a future version. Use pandas.concat instead.\n",
      "  links = links.append({0:file.name, 1:text, 2:'?', 3:\"NEW\"}, ignore_index=True)\n",
      "/tmp/ipykernel_86/75054589.py:11: FutureWarning: The frame.append method is deprecated and will be removed from pandas in a future version. Use pandas.concat instead.\n",
      "  links = links.append({0:file.name, 1:text, 2:'?', 3:\"NEW\"}, ignore_index=True)\n",
      "/tmp/ipykernel_86/75054589.py:11: FutureWarning: The frame.append method is deprecated and will be removed from pandas in a future version. Use pandas.concat instead.\n",
      "  links = links.append({0:file.name, 1:text, 2:'?', 3:\"NEW\"}, ignore_index=True)\n",
      "/tmp/ipykernel_86/75054589.py:11: FutureWarning: The frame.append method is deprecated and will be removed from pandas in a future version. Use pandas.concat instead.\n",
      "  links = links.append({0:file.name, 1:text, 2:'?', 3:\"NEW\"}, ignore_index=True)\n",
      "/tmp/ipykernel_86/75054589.py:11: FutureWarning: The frame.append method is deprecated and will be removed from pandas in a future version. Use pandas.concat instead.\n",
      "  links = links.append({0:file.name, 1:text, 2:'?', 3:\"NEW\"}, ignore_index=True)\n"
     ]
    },
    {
     "name": "stdout",
     "output_type": "stream",
     "text": [
      "47_Splitters.svg -> 21 labels\r\n",
      "48_Getters.svg -> 11 labels\r\n",
      "49_Transforms_for_labels.svg -> 25 labels\r\n"
     ]
    },
    {
     "name": "stderr",
     "output_type": "stream",
     "text": [
      "/tmp/ipykernel_86/75054589.py:11: FutureWarning: The frame.append method is deprecated and will be removed from pandas in a future version. Use pandas.concat instead.\n",
      "  links = links.append({0:file.name, 1:text, 2:'?', 3:\"NEW\"}, ignore_index=True)\n",
      "/tmp/ipykernel_86/75054589.py:11: FutureWarning: The frame.append method is deprecated and will be removed from pandas in a future version. Use pandas.concat instead.\n",
      "  links = links.append({0:file.name, 1:text, 2:'?', 3:\"NEW\"}, ignore_index=True)\n",
      "/tmp/ipykernel_86/75054589.py:11: FutureWarning: The frame.append method is deprecated and will be removed from pandas in a future version. Use pandas.concat instead.\n",
      "  links = links.append({0:file.name, 1:text, 2:'?', 3:\"NEW\"}, ignore_index=True)\n"
     ]
    },
    {
     "name": "stdout",
     "output_type": "stream",
     "text": [
      "50_Type_Transforms-Vision.svg -> 19 labels\r\n",
      "51_Item_Transforms-Vision.svg -> 18 labels\r\n",
      "52_Data_augmentation-Vision_1_4.svg -> 2 labels\r\n",
      "53_Data_augmentation-Vision_2_4.svg -> 1 labels\r\n"
     ]
    },
    {
     "name": "stderr",
     "output_type": "stream",
     "text": [
      "/tmp/ipykernel_86/75054589.py:11: FutureWarning: The frame.append method is deprecated and will be removed from pandas in a future version. Use pandas.concat instead.\n",
      "  links = links.append({0:file.name, 1:text, 2:'?', 3:\"NEW\"}, ignore_index=True)\n",
      "/tmp/ipykernel_86/75054589.py:11: FutureWarning: The frame.append method is deprecated and will be removed from pandas in a future version. Use pandas.concat instead.\n",
      "  links = links.append({0:file.name, 1:text, 2:'?', 3:\"NEW\"}, ignore_index=True)\n",
      "/tmp/ipykernel_86/75054589.py:11: FutureWarning: The frame.append method is deprecated and will be removed from pandas in a future version. Use pandas.concat instead.\n",
      "  links = links.append({0:file.name, 1:text, 2:'?', 3:\"NEW\"}, ignore_index=True)\n",
      "/tmp/ipykernel_86/75054589.py:11: FutureWarning: The frame.append method is deprecated and will be removed from pandas in a future version. Use pandas.concat instead.\n",
      "  links = links.append({0:file.name, 1:text, 2:'?', 3:\"NEW\"}, ignore_index=True)\n",
      "/tmp/ipykernel_86/75054589.py:11: FutureWarning: The frame.append method is deprecated and will be removed from pandas in a future version. Use pandas.concat instead.\n",
      "  links = links.append({0:file.name, 1:text, 2:'?', 3:\"NEW\"}, ignore_index=True)\n",
      "/tmp/ipykernel_86/75054589.py:11: FutureWarning: The frame.append method is deprecated and will be removed from pandas in a future version. Use pandas.concat instead.\n",
      "  links = links.append({0:file.name, 1:text, 2:'?', 3:\"NEW\"}, ignore_index=True)\n"
     ]
    },
    {
     "name": "stdout",
     "output_type": "stream",
     "text": [
      "54_Data_augmentation-Vision_3_4.svg -> 1 labels\r\n",
      "55_Data_augmentation-Vision_4_4.svg -> 2 labels\r\n",
      "56_Type_Transforms-Text.svg -> 18 labels\r\n",
      "57_Item_Transforms-Text.svg -> 5 labels\r\n",
      "58_Tabular_datasets_and_transforms.svg -> 25 labels\r\n"
     ]
    },
    {
     "name": "stderr",
     "output_type": "stream",
     "text": [
      "/tmp/ipykernel_86/75054589.py:11: FutureWarning: The frame.append method is deprecated and will be removed from pandas in a future version. Use pandas.concat instead.\n",
      "  links = links.append({0:file.name, 1:text, 2:'?', 3:\"NEW\"}, ignore_index=True)\n",
      "/tmp/ipykernel_86/75054589.py:11: FutureWarning: The frame.append method is deprecated and will be removed from pandas in a future version. Use pandas.concat instead.\n",
      "  links = links.append({0:file.name, 1:text, 2:'?', 3:\"NEW\"}, ignore_index=True)\n",
      "/tmp/ipykernel_86/75054589.py:11: FutureWarning: The frame.append method is deprecated and will be removed from pandas in a future version. Use pandas.concat instead.\n",
      "  links = links.append({0:file.name, 1:text, 2:'?', 3:\"NEW\"}, ignore_index=True)\n",
      "/tmp/ipykernel_86/75054589.py:11: FutureWarning: The frame.append method is deprecated and will be removed from pandas in a future version. Use pandas.concat instead.\n",
      "  links = links.append({0:file.name, 1:text, 2:'?', 3:\"NEW\"}, ignore_index=True)\n",
      "/tmp/ipykernel_86/75054589.py:11: FutureWarning: The frame.append method is deprecated and will be removed from pandas in a future version. Use pandas.concat instead.\n",
      "  links = links.append({0:file.name, 1:text, 2:'?', 3:\"NEW\"}, ignore_index=True)\n",
      "/tmp/ipykernel_86/75054589.py:11: FutureWarning: The frame.append method is deprecated and will be removed from pandas in a future version. Use pandas.concat instead.\n",
      "  links = links.append({0:file.name, 1:text, 2:'?', 3:\"NEW\"}, ignore_index=True)\n",
      "/tmp/ipykernel_86/75054589.py:11: FutureWarning: The frame.append method is deprecated and will be removed from pandas in a future version. Use pandas.concat instead.\n",
      "  links = links.append({0:file.name, 1:text, 2:'?', 3:\"NEW\"}, ignore_index=True)\n",
      "/tmp/ipykernel_86/75054589.py:11: FutureWarning: The frame.append method is deprecated and will be removed from pandas in a future version. Use pandas.concat instead.\n",
      "  links = links.append({0:file.name, 1:text, 2:'?', 3:\"NEW\"}, ignore_index=True)\n"
     ]
    },
    {
     "name": "stdout",
     "output_type": "stream",
     "text": [
      "59_Optimizer.svg -> 18 labels\r\n",
      "60_Optimizers.svg -> 9 labels\r\n",
      "61_Optimizer-Hyperparameters_scheduling.svg -> 17 labels\r\n",
      "62_Create_model-Vision.svg -> 21 labels\r\n"
     ]
    },
    {
     "name": "stderr",
     "output_type": "stream",
     "text": [
      "/tmp/ipykernel_86/75054589.py:11: FutureWarning: The frame.append method is deprecated and will be removed from pandas in a future version. Use pandas.concat instead.\n",
      "  links = links.append({0:file.name, 1:text, 2:'?', 3:\"NEW\"}, ignore_index=True)\n",
      "/tmp/ipykernel_86/75054589.py:11: FutureWarning: The frame.append method is deprecated and will be removed from pandas in a future version. Use pandas.concat instead.\n",
      "  links = links.append({0:file.name, 1:text, 2:'?', 3:\"NEW\"}, ignore_index=True)\n",
      "/tmp/ipykernel_86/75054589.py:11: FutureWarning: The frame.append method is deprecated and will be removed from pandas in a future version. Use pandas.concat instead.\n",
      "  links = links.append({0:file.name, 1:text, 2:'?', 3:\"NEW\"}, ignore_index=True)\n",
      "/tmp/ipykernel_86/75054589.py:11: FutureWarning: The frame.append method is deprecated and will be removed from pandas in a future version. Use pandas.concat instead.\n",
      "  links = links.append({0:file.name, 1:text, 2:'?', 3:\"NEW\"}, ignore_index=True)\n",
      "/tmp/ipykernel_86/75054589.py:11: FutureWarning: The frame.append method is deprecated and will be removed from pandas in a future version. Use pandas.concat instead.\n",
      "  links = links.append({0:file.name, 1:text, 2:'?', 3:\"NEW\"}, ignore_index=True)\n"
     ]
    },
    {
     "name": "stdout",
     "output_type": "stream",
     "text": [
      "63_Create_Model-Text_GAN.svg -> 13 labels\r\n",
      "64_Modules-Functions_Shapes_Pooling.svg -> 27 labels\r\n",
      "65_Modules-Combine_layers_In_Out.svg -> 24 labels\r\n",
      "66_Modules-Activations_Norms.svg -> 32 labels\r\n"
     ]
    },
    {
     "name": "stderr",
     "output_type": "stream",
     "text": [
      "/tmp/ipykernel_86/75054589.py:11: FutureWarning: The frame.append method is deprecated and will be removed from pandas in a future version. Use pandas.concat instead.\n",
      "  links = links.append({0:file.name, 1:text, 2:'?', 3:\"NEW\"}, ignore_index=True)\n",
      "/tmp/ipykernel_86/75054589.py:11: FutureWarning: The frame.append method is deprecated and will be removed from pandas in a future version. Use pandas.concat instead.\n",
      "  links = links.append({0:file.name, 1:text, 2:'?', 3:\"NEW\"}, ignore_index=True)\n",
      "/tmp/ipykernel_86/75054589.py:11: FutureWarning: The frame.append method is deprecated and will be removed from pandas in a future version. Use pandas.concat instead.\n",
      "  links = links.append({0:file.name, 1:text, 2:'?', 3:\"NEW\"}, ignore_index=True)\n",
      "/tmp/ipykernel_86/75054589.py:11: FutureWarning: The frame.append method is deprecated and will be removed from pandas in a future version. Use pandas.concat instead.\n",
      "  links = links.append({0:file.name, 1:text, 2:'?', 3:\"NEW\"}, ignore_index=True)\n",
      "/tmp/ipykernel_86/75054589.py:11: FutureWarning: The frame.append method is deprecated and will be removed from pandas in a future version. Use pandas.concat instead.\n",
      "  links = links.append({0:file.name, 1:text, 2:'?', 3:\"NEW\"}, ignore_index=True)\n",
      "/tmp/ipykernel_86/75054589.py:11: FutureWarning: The frame.append method is deprecated and will be removed from pandas in a future version. Use pandas.concat instead.\n",
      "  links = links.append({0:file.name, 1:text, 2:'?', 3:\"NEW\"}, ignore_index=True)\n",
      "/tmp/ipykernel_86/75054589.py:11: FutureWarning: The frame.append method is deprecated and will be removed from pandas in a future version. Use pandas.concat instead.\n",
      "  links = links.append({0:file.name, 1:text, 2:'?', 3:\"NEW\"}, ignore_index=True)\n",
      "/tmp/ipykernel_86/75054589.py:11: FutureWarning: The frame.append method is deprecated and will be removed from pandas in a future version. Use pandas.concat instead.\n",
      "  links = links.append({0:file.name, 1:text, 2:'?', 3:\"NEW\"}, ignore_index=True)\n"
     ]
    },
    {
     "name": "stdout",
     "output_type": "stream",
     "text": [
      "67_Modules-Convolutions_Attention.svg -> 22 labels\r\n",
      "68_Modules-Text_sequences_Dropout.svg -> 19 labels\r\n",
      "69_Modules-Unet_GAN_Tabular.svg -> 21 labels\r\n",
      "70_Loss_function-Interface.svg -> 15 labels\r\n",
      "71_Loss_functions-Classification_Regression.svg -> 20 labels\r\n",
      "72_Summary-DataBlock.svg -> 28 labels\r\n"
     ]
    },
    {
     "name": "stderr",
     "output_type": "stream",
     "text": [
      "/tmp/ipykernel_86/75054589.py:11: FutureWarning: The frame.append method is deprecated and will be removed from pandas in a future version. Use pandas.concat instead.\n",
      "  links = links.append({0:file.name, 1:text, 2:'?', 3:\"NEW\"}, ignore_index=True)\n",
      "/tmp/ipykernel_86/75054589.py:11: FutureWarning: The frame.append method is deprecated and will be removed from pandas in a future version. Use pandas.concat instead.\n",
      "  links = links.append({0:file.name, 1:text, 2:'?', 3:\"NEW\"}, ignore_index=True)\n",
      "/tmp/ipykernel_86/75054589.py:11: FutureWarning: The frame.append method is deprecated and will be removed from pandas in a future version. Use pandas.concat instead.\n",
      "  links = links.append({0:file.name, 1:text, 2:'?', 3:\"NEW\"}, ignore_index=True)\n",
      "/tmp/ipykernel_86/75054589.py:11: FutureWarning: The frame.append method is deprecated and will be removed from pandas in a future version. Use pandas.concat instead.\n",
      "  links = links.append({0:file.name, 1:text, 2:'?', 3:\"NEW\"}, ignore_index=True)\n",
      "/tmp/ipykernel_86/75054589.py:11: FutureWarning: The frame.append method is deprecated and will be removed from pandas in a future version. Use pandas.concat instead.\n",
      "  links = links.append({0:file.name, 1:text, 2:'?', 3:\"NEW\"}, ignore_index=True)\n",
      "/tmp/ipykernel_86/75054589.py:11: FutureWarning: The frame.append method is deprecated and will be removed from pandas in a future version. Use pandas.concat instead.\n",
      "  links = links.append({0:file.name, 1:text, 2:'?', 3:\"NEW\"}, ignore_index=True)\n",
      "/tmp/ipykernel_86/75054589.py:11: FutureWarning: The frame.append method is deprecated and will be removed from pandas in a future version. Use pandas.concat instead.\n",
      "  links = links.append({0:file.name, 1:text, 2:'?', 3:\"NEW\"}, ignore_index=True)\n",
      "/tmp/ipykernel_86/75054589.py:11: FutureWarning: The frame.append method is deprecated and will be removed from pandas in a future version. Use pandas.concat instead.\n",
      "  links = links.append({0:file.name, 1:text, 2:'?', 3:\"NEW\"}, ignore_index=True)\n",
      "/tmp/ipykernel_86/75054589.py:11: FutureWarning: The frame.append method is deprecated and will be removed from pandas in a future version. Use pandas.concat instead.\n",
      "  links = links.append({0:file.name, 1:text, 2:'?', 3:\"NEW\"}, ignore_index=True)\n",
      "/tmp/ipykernel_86/75054589.py:11: FutureWarning: The frame.append method is deprecated and will be removed from pandas in a future version. Use pandas.concat instead.\n",
      "  links = links.append({0:file.name, 1:text, 2:'?', 3:\"NEW\"}, ignore_index=True)\n",
      "/tmp/ipykernel_86/75054589.py:11: FutureWarning: The frame.append method is deprecated and will be removed from pandas in a future version. Use pandas.concat instead.\n",
      "  links = links.append({0:file.name, 1:text, 2:'?', 3:\"NEW\"}, ignore_index=True)\n",
      "/tmp/ipykernel_86/75054589.py:11: FutureWarning: The frame.append method is deprecated and will be removed from pandas in a future version. Use pandas.concat instead.\n",
      "  links = links.append({0:file.name, 1:text, 2:'?', 3:\"NEW\"}, ignore_index=True)\n",
      "/tmp/ipykernel_86/75054589.py:11: FutureWarning: The frame.append method is deprecated and will be removed from pandas in a future version. Use pandas.concat instead.\n",
      "  links = links.append({0:file.name, 1:text, 2:'?', 3:\"NEW\"}, ignore_index=True)\n",
      "/tmp/ipykernel_86/75054589.py:11: FutureWarning: The frame.append method is deprecated and will be removed from pandas in a future version. Use pandas.concat instead.\n",
      "  links = links.append({0:file.name, 1:text, 2:'?', 3:\"NEW\"}, ignore_index=True)\n",
      "/tmp/ipykernel_86/75054589.py:11: FutureWarning: The frame.append method is deprecated and will be removed from pandas in a future version. Use pandas.concat instead.\n",
      "  links = links.append({0:file.name, 1:text, 2:'?', 3:\"NEW\"}, ignore_index=True)\n",
      "/tmp/ipykernel_86/75054589.py:11: FutureWarning: The frame.append method is deprecated and will be removed from pandas in a future version. Use pandas.concat instead.\n",
      "  links = links.append({0:file.name, 1:text, 2:'?', 3:\"NEW\"}, ignore_index=True)\n",
      "/tmp/ipykernel_86/75054589.py:11: FutureWarning: The frame.append method is deprecated and will be removed from pandas in a future version. Use pandas.concat instead.\n",
      "  links = links.append({0:file.name, 1:text, 2:'?', 3:\"NEW\"}, ignore_index=True)\n",
      "/tmp/ipykernel_86/75054589.py:11: FutureWarning: The frame.append method is deprecated and will be removed from pandas in a future version. Use pandas.concat instead.\n",
      "  links = links.append({0:file.name, 1:text, 2:'?', 3:\"NEW\"}, ignore_index=True)\n",
      "/tmp/ipykernel_86/75054589.py:11: FutureWarning: The frame.append method is deprecated and will be removed from pandas in a future version. Use pandas.concat instead.\n",
      "  links = links.append({0:file.name, 1:text, 2:'?', 3:\"NEW\"}, ignore_index=True)\n",
      "/tmp/ipykernel_86/75054589.py:11: FutureWarning: The frame.append method is deprecated and will be removed from pandas in a future version. Use pandas.concat instead.\n",
      "  links = links.append({0:file.name, 1:text, 2:'?', 3:\"NEW\"}, ignore_index=True)\n",
      "/tmp/ipykernel_86/75054589.py:11: FutureWarning: The frame.append method is deprecated and will be removed from pandas in a future version. Use pandas.concat instead.\n",
      "  links = links.append({0:file.name, 1:text, 2:'?', 3:\"NEW\"}, ignore_index=True)\n",
      "/tmp/ipykernel_86/75054589.py:11: FutureWarning: The frame.append method is deprecated and will be removed from pandas in a future version. Use pandas.concat instead.\n",
      "  links = links.append({0:file.name, 1:text, 2:'?', 3:\"NEW\"}, ignore_index=True)\n",
      "/tmp/ipykernel_86/75054589.py:11: FutureWarning: The frame.append method is deprecated and will be removed from pandas in a future version. Use pandas.concat instead.\n",
      "  links = links.append({0:file.name, 1:text, 2:'?', 3:\"NEW\"}, ignore_index=True)\n",
      "/tmp/ipykernel_86/75054589.py:11: FutureWarning: The frame.append method is deprecated and will be removed from pandas in a future version. Use pandas.concat instead.\n",
      "  links = links.append({0:file.name, 1:text, 2:'?', 3:\"NEW\"}, ignore_index=True)\n",
      "/tmp/ipykernel_86/75054589.py:11: FutureWarning: The frame.append method is deprecated and will be removed from pandas in a future version. Use pandas.concat instead.\n",
      "  links = links.append({0:file.name, 1:text, 2:'?', 3:\"NEW\"}, ignore_index=True)\n",
      "/tmp/ipykernel_86/75054589.py:11: FutureWarning: The frame.append method is deprecated and will be removed from pandas in a future version. Use pandas.concat instead.\n",
      "  links = links.append({0:file.name, 1:text, 2:'?', 3:\"NEW\"}, ignore_index=True)\n",
      "/tmp/ipykernel_86/75054589.py:11: FutureWarning: The frame.append method is deprecated and will be removed from pandas in a future version. Use pandas.concat instead.\n",
      "  links = links.append({0:file.name, 1:text, 2:'?', 3:\"NEW\"}, ignore_index=True)\n",
      "/tmp/ipykernel_86/75054589.py:11: FutureWarning: The frame.append method is deprecated and will be removed from pandas in a future version. Use pandas.concat instead.\n",
      "  links = links.append({0:file.name, 1:text, 2:'?', 3:\"NEW\"}, ignore_index=True)\n",
      "/tmp/ipykernel_86/75054589.py:11: FutureWarning: The frame.append method is deprecated and will be removed from pandas in a future version. Use pandas.concat instead.\n",
      "  links = links.append({0:file.name, 1:text, 2:'?', 3:\"NEW\"}, ignore_index=True)\n",
      "/tmp/ipykernel_86/75054589.py:11: FutureWarning: The frame.append method is deprecated and will be removed from pandas in a future version. Use pandas.concat instead.\n",
      "  links = links.append({0:file.name, 1:text, 2:'?', 3:\"NEW\"}, ignore_index=True)\n"
     ]
    },
    {
     "name": "stdout",
     "output_type": "stream",
     "text": [
      "73_Summary-DataLoaders.svg -> 15 labels\r\n",
      "74_Summary-Learner.svg -> 13 labels\r\n",
      "75_Implementation_notes.svg -> 1 labels\r\n",
      "76_Distributed_Training.svg -> 3 labels\r\n"
     ]
    },
    {
     "data": {
      "text/plain": [
       "OK         1498\n",
       "NEW         114\n",
       "REMOVED      96\n",
       "Name: 3, dtype: int64"
      ]
     },
     "execution_count": 10,
     "metadata": {},
     "output_type": "execute_result"
    }
   ],
   "source": [
    "links[3] = \"REMOVED\"\n",
    "\n",
    "for file in files:\n",
    "    dom = parse(open(file, encoding='utf-8'))\n",
    "    for idx,textElt in enumerate(dom.getElementsByTagName('text')):\n",
    "        text = get_text_value(textElt).replace('\"','')\n",
    "        rows = links[(links[0]==file.name) & (links[1]==text)]   \n",
    "        if len(rows.index)>0:\n",
    "            links.loc[(links[0]==file.name) & (links[1]==text),3] = \"OK\"\n",
    "        else:\n",
    "            links = links.append({0:file.name, 1:text, 2:'?', 3:\"NEW\"}, ignore_index=True)\n",
    "    print(f\"{file.name} -> {idx} labels\\r\")\n",
    "\n",
    "links = links.reset_index().sort_values([0,'index']).drop(columns='index')\n",
    "\n",
    "links[3].value_counts()"
   ]
  },
  {
   "cell_type": "code",
   "execution_count": 11,
   "id": "pregnant-arrival",
   "metadata": {},
   "outputs": [],
   "source": [
    "links.to_csv('links.csv', sep=';', header=None, index=False, encoding='utf-8-sig')"
   ]
  },
  {
   "cell_type": "markdown",
   "id": "initial-constitution",
   "metadata": {},
   "source": [
    "2. Open \"links.csv\" in a table editor (separator ';' and **UTF8 encoding**)\n",
    "  - column 0 : SVG file name\n",
    "  - column 1 : text element\n",
    "  - column 2 : link to fastai doc -> '?', then URL or empty if no link\n",
    "  - column 3 : line status -> NEW, OK, REMOVED \n",
    "\n",
    "Note : be careful to open and save the CSV file in **UTF-8 encoding** !\n",
    "\n",
    "\n",
    "3. Locate the new lines with 'NEW' in column 3 or the lines not yet documented with '?' in column 2\n",
    "  - add a link to fastai doc in column 2 (or leave the cell empty)\n",
    "  - use 'docs.fast.ai.csv' to quickly find the doc URL\n",
    "  - you can try to locate a similar text element with the status REMOVED to copy the previously selected link\n",
    "  - optionnaly reorder the lines to group the elements with links at the top for each SVG file\n",
    "\n",
    "\n",
    "4. After all lines have been updated :\n",
    "  - delete all REMOVED lines\n",
    "  - drop the colum 3 (status)\n",
    "  - save a new version of 'links.csv'"
   ]
  },
  {
   "cell_type": "code",
   "execution_count": 12,
   "id": "angry-backing",
   "metadata": {},
   "outputs": [],
   "source": [
    "links = pd.read_csv('links.csv', sep=';', header=None, encoding='utf-8', keep_default_na=False)"
   ]
  },
  {
   "cell_type": "markdown",
   "id": "stretch-engine",
   "metadata": {},
   "source": [
    "### 3.3 Process SVG files : add links"
   ]
  },
  {
   "cell_type": "code",
   "execution_count": 13,
   "id": "embedded-dealer",
   "metadata": {},
   "outputs": [],
   "source": [
    "def wrap_with_link(dom, textElt, url):\n",
    "    parent = textElt.parentNode\n",
    "    link = dom.createElement('a')\n",
    "    link.setAttributeNS(\"http://www.w3.org/1999/xlink\", \"href\", url)    \n",
    "    link.setAttributeNS(\"http://www.w3.org/1999/xlink\", \"target\", \"_top\") \n",
    "    if textElt.previousSibling.tagName==\"rect\":\n",
    "        rectElt = textElt.previousSibling\n",
    "        parent.removeChild(rectElt)\n",
    "        parent.replaceChild(link, textElt)        \n",
    "        link.appendChild(rectElt)\n",
    "        link.appendChild(textElt)\n",
    "    else:\n",
    "        parent.replaceChild(link, textElt)\n",
    "        link.appendChild(textElt)"
   ]
  },
  {
   "cell_type": "code",
   "execution_count": 71,
   "id": "comfortable-arcade",
   "metadata": {},
   "outputs": [
    {
     "name": "stdout",
     "output_type": "stream",
     "text": [
      "01_Concepts-Data_loading.svg\n",
      " -> updated\n",
      "02_Concepts-Model_training.svg\n",
      " -> updated\n",
      "03_Concepts-Learner_lifecycle.svg\n",
      " -> updated\n",
      "04_Learner-Create_an_instance.svg\n",
      " -> updated\n",
      "05_Learner-Init_Attributes.svg\n",
      " -> updated\n",
      "06_Learner-Training_methods.svg\n",
      " -> updated\n",
      "07_Learner-Inference_methods.svg\n",
      " -> updated\n",
      "08_Diagnostics-How_to_debug.svg\n",
      " -> updated\n",
      "09_Show-Inputs_targets_predictions.svg\n",
      " -> updated\n",
      "10_Show-Images.svg\n",
      " -> updated\n",
      "11_Show-Text_points_boxes_tables.svg\n",
      " -> updated\n",
      "12_Plot-Training_loop.svg\n",
      " -> updated\n",
      "13_Model_evaluation-Interpretation.svg\n",
      " -> updated\n",
      "14_Metrics-1_2.svg\n",
      " -> updated\n",
      "15_Metrics-2_2.svg\n",
      " -> updated\n",
      "16_Learner-Training_loop_1_2.svg\n",
      " -> updated\n",
      "17_Learner-Training_loop_2_2.svg\n",
      " -> updated\n",
      "18_Learner-Customize_training_loop.svg\n",
      " -> updated\n",
      "19_Learner-Callbacks_1_2.svg\n",
      " -> updated\n",
      "20_Learner-Callbacks_2_2.svg\n",
      " -> updated\n",
      "21_Learner-Context_managers.svg\n",
      " -> updated\n",
      "22_Learner-Public_methods_call_tree.svg\n",
      " -> updated\n",
      "23_Learner-validate_and_Recorder.svg\n",
      " -> updated\n",
      "24_Learner-get_preds_and_Loss_function.svg\n",
      " -> updated\n",
      "25_Learner-predict_and_DataLoader.svg\n",
      " -> updated\n",
      "26_Learner-show_results_and_DataLoader.svg\n",
      " -> updated\n",
      "27_DataLoaders-Create_an_instance.svg\n",
      " -> updated\n",
      "28_DataLoaders-Interface.svg\n",
      " -> updated\n",
      "29_DataLoader-Interface.svg\n",
      " -> updated\n",
      "30_DataLoader-Init.svg\n",
      " -> updated\n",
      "31_DataLoader-iter()_and_next().svg\n",
      " -> updated\n",
      "32_DataLoader-TfmdDL.svg\n",
      " -> updated\n",
      "33_DataLoader-TfmdDL_subclasses.svg\n",
      " -> updated\n",
      "34_Dataset-Interface.svg\n",
      " -> updated\n",
      "35_Dataset-TfmdLists.svg\n",
      " -> updated\n",
      "36_Dataset-Datasets.svg\n",
      " -> updated\n",
      "37_Dataset-Tabular_datasets.svg\n",
      " -> updated\n",
      "38_DataBlock.svg\n",
      " -> updated\n",
      "39_DataBlock-Init_data_pipeline.svg\n",
      " -> updated\n",
      "40_TransformBlocks-Labels.svg\n",
      " -> updated\n",
      "41_TransformBlocks-Vision.svg\n",
      " -> updated\n",
      "42_TransformBlocks-Text.svg\n",
      " -> updated\n",
      "43_Download_datasets_and_models.svg\n",
      " -> updated\n",
      "44_Download-Directories_config.svg\n",
      " -> updated\n",
      "45_Dataset_Model_Learner-Directories.svg\n",
      " -> updated\n",
      "46_Get_items.svg\n",
      " -> updated\n",
      "47_Splitters.svg\n",
      " -> updated\n",
      "48_Getters.svg\n",
      " -> updated\n",
      "49_Transforms_for_labels.svg\n",
      " -> updated\n",
      "50_Type_Transforms-Vision.svg\n",
      " -> updated\n",
      "51_Item_Transforms-Vision.svg\n",
      " -> updated\n",
      "52_Data_augmentation-Vision_1_4.svg\n",
      " -> updated\n",
      "53_Data_augmentation-Vision_2_4.svg\n",
      " -> updated\n",
      "54_Data_augmentation-Vision_3_4.svg\n",
      " -> updated\n",
      "55_Data_augmentation-Vision_4_4.svg\n",
      " -> updated\n",
      "56_Type_Transforms-Text.svg\n",
      " -> updated\n",
      "57_Item_Transforms-Text.svg\n",
      " -> updated\n",
      "58_Tabular_datasets_and_transforms.svg\n",
      " -> updated\n",
      "59_Optimizer.svg\n",
      " -> updated\n",
      "60_Optimizers.svg\n",
      " -> updated\n",
      "61_Optimizer-Hyperparameters_scheduling.svg\n",
      " -> updated\n",
      "62_Create_model-Vision.svg\n",
      " -> updated\n",
      "63_Create_Model-Text_GAN.svg\n",
      " -> updated\n",
      "64_Modules-Functions_Shapes_Pooling.svg\n",
      " -> updated\n",
      "65_Modules-Combine_layers_In_Out.svg\n",
      " -> updated\n",
      "66_Modules-Activations_Norms.svg\n",
      " -> updated\n",
      "67_Modules-Convolutions_Attention.svg\n",
      " -> updated\n",
      "68_Modules-Text_sequences_Dropout.svg\n",
      " -> updated\n",
      "69_Modules-Unet_GAN_Tabular.svg\n",
      " -> updated\n",
      "70_Loss_function-Interface.svg\n",
      " -> updated\n",
      "71_Loss_functions-Classification_Regression.svg\n",
      " -> updated\n",
      "72_Summary-DataBlock.svg\n",
      " -> updated\n",
      "73_Summary-DataLoaders.svg\n",
      " -> updated\n",
      "74_Summary-Learner.svg\n",
      " -> updated\n",
      "75_Implementation_notes.svg\n",
      " -> updated\n",
      "76_Distributed_Training.svg\n",
      " -> updated\n"
     ]
    }
   ],
   "source": [
    "for file in files:\n",
    "    dom = parse(open(file, encoding='utf-8'))\n",
    "    print(file.name)\n",
    "    changed = False\n",
    "    for idx,textElt in enumerate(dom.getElementsByTagName('text')):\n",
    "        text = get_text_value(textElt).replace('\"','')\n",
    "        rows = links[(links[0]==file.name) & (links[1]==text)]   \n",
    "        if len(rows.index)>0:\n",
    "            url = rows.iloc[0,2]\n",
    "            if len(url)>0 and url!='?':\n",
    "                if url[0]=='#':\n",
    "                    url = \"/fastaidocs/\"+url\n",
    "                wrap_with_link(dom,textElt,url)\n",
    "                changed = True\n",
    "    if changed:\n",
    "        with open(file,'w') as f:\n",
    "            f.write(dom.toxml())\n",
    "            print(\" -> updated\")"
   ]
  },
  {
   "cell_type": "markdown",
   "id": "rapid-offer",
   "metadata": {},
   "source": [
    "## 4. Generate the HTML page and menu"
   ]
  },
  {
   "cell_type": "code",
   "execution_count": 52,
   "id": "composed-wagon",
   "metadata": {},
   "outputs": [],
   "source": [
    "menuhtml = f\"<h1>fastai v{version}</h1>\\n\"\n",
    "menuhtml += \"<a href=\\\"https://www.linkedin.com/in/laurent-prudhon\\\"><ul><li><small>forums.fast.ai: @laurentprudhon</small></li><li><small>Twitter : @prudholu</small></li></ul></a>\\n\"\n",
    "for title1 in titles[1].unique():\n",
    "    menuhtml += f\"<h2>{title1}</h2>\\n\"\n",
    "    menuhtml += \"<ul>\"\n",
    "    for title2 in titles[2][titles[1]==title1]:\n",
    "        num = titles[3][(titles[1]==title1) & (titles[2]==title2)].item()[:2]\n",
    "        menuhtml += f\"<li><a href=\\\"#{num}\\\">{title2}</a></li>\\n\"\n",
    "    menuhtml += \"</ul>\""
   ]
  },
  {
   "cell_type": "code",
   "execution_count": 53,
   "id": "every-beach",
   "metadata": {},
   "outputs": [],
   "source": [
    "mainhtml = \"\"\n",
    "for title1 in titles[1].unique():\n",
    "    mainhtml += f\"<h2>{title1}</h2>\\n\"\n",
    "    for title2 in titles[2][titles[1]==title1]:\n",
    "        num = titles[3][(titles[1]==title1) & (titles[2]==title2)].item()[:2]\n",
    "        mainhtml += f\"<p><object id=\\\"{num}\\\" type=\\\"image/svg+xml\\\" data=\\\"/images/fastaidocs/{titles[3][(titles[1]==title1) & (titles[2]==title2)].item()}\\\"></object></p>\\n\""
   ]
  },
  {
   "cell_type": "code",
   "execution_count": 54,
   "id": "incident-myanmar",
   "metadata": {},
   "outputs": [],
   "source": [
    "main1html = \"\"\"\n",
    "<html>\n",
    "<head>\n",
    "<!-- Global site tag (gtag.js) - Google Analytics -->\n",
    "<script async src=\"https://www.googletagmanager.com/gtag/js?id=UA-172638611-1\"></script>\n",
    "<script>\n",
    "  window.dataLayer = window.dataLayer || [];\n",
    "  function gtag(){dataLayer.push(arguments);}\n",
    "  gtag('js', new Date());\n",
    "  gtag('config', 'UA-172638611-1');\n",
    "</script>\n",
    "<style>\n",
    "/* The sidenav */\n",
    ".sidenav {\n",
    "  padding: 10px;\n",
    "  height: 100%;\n",
    "  width: 300px;\n",
    "  position: fixed;\n",
    "  z-index: 1;\n",
    "  top: 0;\n",
    "  left: 0;\n",
    "  color: #7F7F7F;\n",
    "  background-color: #F7F7F7;\n",
    "  overflow-x: hidden;\n",
    "  border-right: solid 1px;\n",
    "}\n",
    "\n",
    "ul {\n",
    "  padding-left: 10px;\n",
    "}\n",
    "\n",
    "li {\n",
    "  list-style-type: none;\n",
    "  padding-left: 0px;\n",
    "  padding-bottom: 5px;\n",
    "}\n",
    "\n",
    "a {\n",
    "  outline: none;\n",
    "  text-decoration: none;\n",
    "  color: #7F7F7F;\n",
    "}\n",
    "\n",
    "a:hover {\n",
    "  border-bottom: 1px solid;\n",
    "}\n",
    "\n",
    "/* Page content */\n",
    ".main {\n",
    "  margin-left: 300px; /* Same as the width of the sidenav */\n",
    "  padding: 0px 10px;\n",
    "}\n",
    "\n",
    ".main h2 {\n",
    "  color: #7F7F7F;\n",
    "  background-color: #F7F7F7;\n",
    "  font-size: 50px;\n",
    "  border-top: 1px solid;\n",
    "  border-bottom: 1px solid;\n",
    "  padding: 10px;\n",
    "}\n",
    "\n",
    ".main img {\n",
    "  width: 100%;\n",
    "  border: 1px solid #E7E7E7;\n",
    "}\n",
    "\n",
    "</style>\n",
    "</head>\n",
    "\n",
    "<body>\n",
    "\n",
    "<div class=\"sidenav\">\n",
    "\n",
    "\"\"\""
   ]
  },
  {
   "cell_type": "code",
   "execution_count": 55,
   "id": "medical-observation",
   "metadata": {},
   "outputs": [],
   "source": [
    "main2html = \"\"\"\n",
    "</div>\n",
    "\n",
    "<div class=\"main\">\n",
    "\"\"\""
   ]
  },
  {
   "cell_type": "code",
   "execution_count": 56,
   "id": "according-reliance",
   "metadata": {},
   "outputs": [],
   "source": [
    "main3html = \"\"\"\n",
    "</div>\n",
    "\n",
    "</body>\n",
    "\n",
    "</html>\"\"\""
   ]
  },
  {
   "cell_type": "code",
   "execution_count": 57,
   "id": "undefined-platform",
   "metadata": {},
   "outputs": [],
   "source": [
    "text_file = open(\"index.html\", \"w\")\n",
    "text_file.write(main1html + menuhtml + main2html + mainhtml + main3html)\n",
    "text_file.close()"
   ]
  },
  {
   "cell_type": "markdown",
   "id": "bb0016d9",
   "metadata": {},
   "source": [
    "# 5. Publish the result"
   ]
  },
  {
   "cell_type": "markdown",
   "id": "6d375084",
   "metadata": {},
   "source": [
    "1. Move all *_old.csv and temporary work files to a subdirectory ./update_to_vx.y.z\n",
    "2. Commit and push the changes to Github\n",
    "3. Checkout \n",
    "4. "
   ]
  },
  {
   "cell_type": "code",
   "execution_count": null,
   "id": "941cf5a6",
   "metadata": {},
   "outputs": [],
   "source": []
  }
 ],
 "metadata": {
  "kernelspec": {
   "display_name": "Python 3 (ipykernel)",
   "language": "python",
   "name": "python3"
  },
  "language_info": {
   "codemirror_mode": {
    "name": "ipython",
    "version": 3
   },
   "file_extension": ".py",
   "mimetype": "text/x-python",
   "name": "python",
   "nbconvert_exporter": "python",
   "pygments_lexer": "ipython3",
   "version": "3.10.6"
  }
 },
 "nbformat": 4,
 "nbformat_minor": 5
}
